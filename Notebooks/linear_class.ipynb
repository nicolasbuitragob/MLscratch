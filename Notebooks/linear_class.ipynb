{
 "cells": [
  {
   "cell_type": "markdown",
   "id": "9dd89031-d291-4420-b3df-05caef72a805",
   "metadata": {
    "tags": []
   },
   "source": [
    "# Linear models development\n",
    "\n",
    "In this notebook will be developing the algorithm's code\n",
    "\n",
    "Linear Regression and Logistic Regression"
   ]
  },
  {
   "cell_type": "markdown",
   "id": "a9990e47-492c-4344-a0a1-d9cc8d349879",
   "metadata": {},
   "source": [
    "**Notation:**\n",
    "\n",
    "$\\alpha = \\text{Learning rate}$\n",
    "\n",
    "$MSE = \\text{Mean squared error}$ \n",
    "\n",
    "$\\nabla_{\\theta} = \\text{Gradient}$\n",
    "\n",
    "$m = \\text{Length of the training set}$\n",
    "\n",
    "$\\theta = \\text{Theta parameters}$\n",
    "\n",
    "\n"
   ]
  },
  {
   "cell_type": "markdown",
   "id": "2d271ad6-410d-4d44-b722-b3f3d817d173",
   "metadata": {},
   "source": [
    "**Equations Linear Regression:**\n",
    "\n",
    "**Model prediction** \n",
    "\n",
    "$\\hat{y} = \\theta_0 x_0 + \\theta_1  x_1 + \\theta_2 x_2 \\dots \\theta_n x_n $\n",
    "\n",
    "**Hypothesis function. Model prediction equation vectorized**\n",
    "\n",
    "$\n",
    "h(x) = \\theta \\cdot X\n",
    "$\n",
    "\n",
    "**Cost Function**\n",
    "\n",
    "$MSE = \\frac{1}{m} \\sum_{i=1}^m{(h(x) - y)^2}$\n",
    "\n",
    "**Gradient**\n",
    "\n",
    "$\\nabla_{\\theta (MSE)} \\to \\frac{\\partial}{\\partial \\theta} = \\frac{2}{m}\\sum_{i=1}^m ({h(x) - y})x$\n",
    "\n",
    "**Vectorized Gradient**\n",
    "\n",
    "$\\nabla_{\\theta (MSE)}$  $ = \\frac{2}{m} \\cdot X^T (X \\cdot \\theta - y)$\n",
    "\n",
    "**Update theta**\n",
    "\n",
    "$\\theta = \\theta - \\alpha \\cdot \\nabla_{\\theta(MSE)}$"
   ]
  },
  {
   "cell_type": "markdown",
   "id": "fa6fe9f7-5f5c-42b7-90d2-8571f9bc82e7",
   "metadata": {},
   "source": [
    "**Equations Logistic Regression:**\n",
    "\n",
    "\n",
    "**Sigmoid function**\n",
    "\n",
    "$\\sigma (p) =  \\frac{\\mathrm{1} }{\\mathrm{1} + e^{-p}}  $ \n",
    "\n",
    "**Model prediction** \n",
    "\n",
    "$p = \\sigma(\\theta \\cdot X)$\n",
    "\n",
    "\n",
    "\n",
    "\n",
    "$y =\n",
    "\\begin{cases}\n",
    "  0 =\\text {if  p} \\lt 0.5\\\\\n",
    "  1 =\\text {if  p} \\geq 0.5\n",
    "\\end{cases}\n",
    "$\n",
    "\n",
    "\n",
    "\n",
    "**Cost Function**\n",
    "\n",
    "$\\text {Binary cross entropy loss} = -\\frac{1}{m} \\sum_{i=1}^m[y log(p)+(1-y)log(1-p)]$\n",
    "\n",
    "**Gradient**\n",
    "\n",
    "$\\nabla_{\\theta} \\to \\frac{\\partial}{\\partial \\theta} = \\frac{1}{m}\\sum_{i=1}^m ({p - y})x$\n",
    "\n",
    "**Vectorized Gradient**\n",
    "\n",
    "$\\nabla_{\\theta}$  $ = \\frac{1}{m} \\cdot X^T (p- y)$\n",
    "\n",
    "**Update theta**\n",
    "\n",
    "$\\theta = \\theta - \\alpha \\cdot \\nabla_{\\theta}$\n"
   ]
  },
  {
   "cell_type": "code",
   "execution_count": 23,
   "id": "1f44f883-b849-4796-bb75-85ec667f47bc",
   "metadata": {},
   "outputs": [],
   "source": [
    "import numpy as np\n",
    "import matplotlib.pyplot as plt"
   ]
  },
  {
   "cell_type": "code",
   "execution_count": 24,
   "id": "cbaaf0e5-51f2-499d-96c8-5aae980b6702",
   "metadata": {},
   "outputs": [],
   "source": [
    "class Regression:\n",
    "    def __init__(self):\n",
    "        self._iterations = 2000\n",
    "        self._learning_rate = 0.001\n",
    "        self.theta = None\n",
    "        self.cost = []\n",
    "        \n",
    "    def fit(self,X_train,y_train):\n",
    "        \n",
    "        m,n = X_train.shape\n",
    "        self.theta = np.random.randn(n)\n",
    "        X_with_bias = np.c_[np.ones(m),X_train]\n",
    "        self.theta = np.insert(self.theta,0,0)\n",
    "        self.theta = np.reshape(self.theta,(self.theta.shape[0],1))\n",
    "        for i in range(self._iterations):\n",
    "            h = np.dot(X_with_bias,self.theta)\n",
    "            error = h - y_train            \n",
    "            J = (1/m)*np.sum(error**2)\n",
    "            grad = (2/m)*np.dot(X_with_bias.T,error)\n",
    "            self.theta = self.theta - self._learning_rate*grad\n",
    "            self.cost.append(J)\n",
    "        \n",
    "        self.plot()\n",
    "        \n",
    "    def plot(self):\n",
    "        plt.plot(self.cost)\n",
    "        plt.xlabel('Iterations')\n",
    "        plt.ylabel('Cost')\n",
    "        plt.show()\n",
    "    \n",
    "            \n",
    "    def predict(self, X_test):        \n",
    "        m_test = X_test.shape[0]\n",
    "        X_test_bias = np.c_[np.ones(m_test),X_test]\n",
    "        pred = np.dot(X_test_bias,self.theta)\n",
    "        return pred"
   ]
  },
  {
   "cell_type": "code",
   "execution_count": null,
   "id": "90e0cc17-6b80-4f5c-a36c-f568d87434c7",
   "metadata": {},
   "outputs": [],
   "source": []
  },
  {
   "cell_type": "code",
   "execution_count": 3,
   "id": "191cb248-309d-49f3-9a64-6bd98fb96144",
   "metadata": {},
   "outputs": [],
   "source": [
    "class Classification(Regression):\n",
    "    def __init__(self):\n",
    "        super().__init__()\n",
    "\n",
    "    def sigmoid(self,x):\n",
    "        z = 1/(1 + np.exp(-x))\n",
    "        return z\n",
    "\n",
    "    def fit(self,X,y):\n",
    "        m,n = X.shape\n",
    "        self.theta = np.random.randn(n) \n",
    "        X_with_bias = np.c_[np.ones(m),X] \n",
    "        self.theta = np.insert(self.theta,0,0)\n",
    "        for i in range(self._iterations):\n",
    "            h = np.dot(X_with_bias,self.theta)\n",
    "            z = self.sigmoid(h)    \n",
    "            J = (-1/m)*np.sum((y*np.log(z))+((1-y)*np.log(1-z)))\n",
    "            error = z - y\n",
    "            grad = (1/m)*np.dot(X_with_bias.T,error)\n",
    "            self.theta =  self.theta - self._learning_rate*grad\n",
    "            self.cost.append(J)\n",
    "        self.plot()\n",
    "\n",
    "    def predict(self, X_test):        \n",
    "        m_test = X_test.shape[0]\n",
    "        X_test_bias = np.c_[np.ones(m_test),X_test]\n",
    "        pred = np.dot(X_test_bias,self.theta)\n",
    "        return (pred >= 0.5 )*1\n"
   ]
  },
  {
   "cell_type": "code",
   "execution_count": 4,
   "id": "ff1b9730-aced-494f-b03f-bba09b756f3f",
   "metadata": {},
   "outputs": [],
   "source": [
    "from sklearn.datasets import make_regression, make_classification\n",
    "from sklearn.model_selection import train_test_split"
   ]
  },
  {
   "cell_type": "markdown",
   "id": "ca15b60b-198b-4519-8ac4-dcc803c7d896",
   "metadata": {},
   "source": [
    "### Creating a toy dataset for testing the class"
   ]
  },
  {
   "cell_type": "code",
   "execution_count": 5,
   "id": "d2f098d2-0d10-4463-afc0-cff955ab6f4a",
   "metadata": {},
   "outputs": [],
   "source": [
    "x, y = make_regression(n_samples = 200,n_features = 1,noise = 50, bias = 100,random_state = 0)"
   ]
  },
  {
   "cell_type": "code",
   "execution_count": 6,
   "id": "105a37d7-a2f4-4f5e-bcd5-44d03bc59cc3",
   "metadata": {},
   "outputs": [
    {
     "data": {
      "image/png": "[encoded data removed]",
      "text/plain": [
       "<Figure size 432x288 with 1 Axes>"
      ]
     },
     "metadata": {
      "needs_background": "light"
     },
     "output_type": "display_data"
    }
   ],
   "source": [
    "plt.scatter(x,y)\n",
    "plt.show()"
   ]
  },
  {
   "cell_type": "code",
   "execution_count": 7,
   "id": "5b41c45b-aedb-4938-93fb-69053027b83e",
   "metadata": {},
   "outputs": [],
   "source": [
    "# Split the data\n",
    "x_train,x_test,y_train,y_test = train_test_split(x, y, random_state = 0)"
   ]
  },
  {
   "cell_type": "code",
   "execution_count": 8,
   "id": "524c9ecf-dbf5-4fe6-9f49-5232fb1063fa",
   "metadata": {},
   "outputs": [],
   "source": [
    "linear = Regression()"
   ]
  },
  {
   "cell_type": "code",
   "execution_count": 9,
   "id": "ce76afe1-206d-4d3c-84b0-9b9af0305ce1",
   "metadata": {},
   "outputs": [
    {
     "data": {
      "image/png": "[encoded data removed]",
      "text/plain": [
       "<Figure size 432x288 with 1 Axes>"
      ]
     },
     "metadata": {
      "needs_background": "light"
     },
     "output_type": "display_data"
    }
   ],
   "source": [
    "linear.fit(x_train,y_train)"
   ]
  },
  {
   "cell_type": "code",
   "execution_count": 10,
   "id": "c1058635-8877-4fde-8d36-a1053d01bcbf",
   "metadata": {},
   "outputs": [],
   "source": [
    "preds = linear.predict(x_test)"
   ]
  },
  {
   "cell_type": "code",
   "execution_count": 11,
   "id": "c0156f08-0a68-4142-b753-c3c6e20b3aa4",
   "metadata": {},
   "outputs": [
    {
     "data": {
      "image/png": "[encoded data removed]",
      "text/plain": [
       "<Figure size 432x288 with 1 Axes>"
      ]
     },
     "metadata": {
      "needs_background": "light"
     },
     "output_type": "display_data"
    }
   ],
   "source": [
    "plt.scatter(x_test, y_test)\n",
    "plt.plot(x_test, preds, color = 'orange')\n",
    "plt.show()"
   ]
  },
  {
   "cell_type": "markdown",
   "id": "c88dfb5c-bff5-40b2-9b07-8c283481903c",
   "metadata": {},
   "source": [
    "Seems to work"
   ]
  },
  {
   "cell_type": "markdown",
   "id": "1eb5ac38-7ca4-4a5e-8278-99201eb3607c",
   "metadata": {},
   "source": [
    "### Now lets test the classification class\n",
    "\n",
    "Another toy dataset"
   ]
  },
  {
   "cell_type": "code",
   "execution_count": 12,
   "id": "8cdb69c9-4eec-4453-8fa8-66a659fa448b",
   "metadata": {},
   "outputs": [],
   "source": [
    "x, y = make_classification(n_features = 2, n_redundant = 0, n_informative = 1, n_clusters_per_class = 1)"
   ]
  },
  {
   "cell_type": "code",
   "execution_count": 13,
   "id": "6846bad4-5cee-4060-95ac-e6dae458fbf4",
   "metadata": {},
   "outputs": [
    {
     "data": {
      "image/png": "[encoded data removed]",
      "text/plain": [
       "<Figure size 432x288 with 1 Axes>"
      ]
     },
     "metadata": {
      "needs_background": "light"
     },
     "output_type": "display_data"
    }
   ],
   "source": [
    "plt.scatter(x[:,0],x[:,1], c = y)\n",
    "plt.show()"
   ]
  },
  {
   "cell_type": "code",
   "execution_count": 14,
   "id": "1d0c1e0f-d10c-4f24-b277-24d7ac538d25",
   "metadata": {},
   "outputs": [],
   "source": [
    "logistic_regression = Classification()"
   ]
  },
  {
   "cell_type": "code",
   "execution_count": 15,
   "id": "107b9354-8dd5-4395-9be4-d080d907d232",
   "metadata": {},
   "outputs": [],
   "source": [
    "x_train, x_test, y_train, y_test = train_test_split(x,y,random_state = 0)"
   ]
  },
  {
   "cell_type": "code",
   "execution_count": 16,
   "id": "aed6fcc5-74c0-4443-9bfb-fb8b0112ba75",
   "metadata": {},
   "outputs": [
    {
     "data": {
      "image/png": "[encoded data removed]",
      "text/plain": [
       "<Figure size 432x288 with 1 Axes>"
      ]
     },
     "metadata": {
      "needs_background": "light"
     },
     "output_type": "display_data"
    }
   ],
   "source": [
    "logistic_regression.fit(x_train, y_train)\n"
   ]
  },
  {
   "cell_type": "code",
   "execution_count": 17,
   "id": "9fc81bb4-3238-4b04-b4c4-1b285b5793ce",
   "metadata": {},
   "outputs": [],
   "source": [
    "preds = logistic_regression.predict(x_test)"
   ]
  },
  {
   "cell_type": "code",
   "execution_count": 18,
   "id": "6d1fee0c-2daa-484e-9b05-e4a635c39b1a",
   "metadata": {},
   "outputs": [],
   "source": [
    "theta = logistic_regression.theta"
   ]
  },
  {
   "cell_type": "markdown",
   "id": "78624bf3-fa1f-4fca-b7d1-e4980a336b13",
   "metadata": {},
   "source": [
    "We will plot the decision boundary to see how the model performs"
   ]
  },
  {
   "cell_type": "code",
   "execution_count": 19,
   "id": "73c7d4c0-892b-46c0-babd-cfa9c85cb629",
   "metadata": {},
   "outputs": [],
   "source": [
    "min_, max_ = np.min(x[:,0]), np.max(x[:,0])"
   ]
  },
  {
   "cell_type": "code",
   "execution_count": 20,
   "id": "db74623b-f0eb-42ef-84da-4b2a43f75999",
   "metadata": {},
   "outputs": [],
   "source": [
    "boundary = -(np.dot(theta[1]/theta[2],[min_,max_]) - (theta[0] / theta[2]))\n"
   ]
  },
  {
   "cell_type": "code",
   "execution_count": 21,
   "id": "b4b1a39f-5990-4593-bbcc-cacfe94b5851",
   "metadata": {},
   "outputs": [
    {
     "data": {
      "image/png": "[encoded data removed]",
      "text/plain": [
       "<Figure size 432x288 with 1 Axes>"
      ]
     },
     "metadata": {
      "needs_background": "light"
     },
     "output_type": "display_data"
    }
   ],
   "source": [
    "plt.scatter(x[:,0], x[:,1], c = y)\n",
    "plt.plot(np.array([min_,max_]),boundary)\n",
    "plt.show()"
   ]
  },
  {
   "cell_type": "markdown",
   "id": "e47083a0-dd29-45c6-962d-3f2e0fb5bf93",
   "metadata": {},
   "source": [
    "Seems to work too!"
   ]
  },
  {
   "cell_type": "markdown",
   "id": "7925d78d-fa26-4017-a10e-f1843c56029f",
   "metadata": {},
   "source": [
    "Now these two classes will be exported to the LinearModels.py file to be used and evaluated in a more complicated datasets"
   ]
  },
  {
   "cell_type": "code",
   "execution_count": null,
   "id": "d525d977-e489-4376-b35c-32cd6ead904b",
   "metadata": {},
   "outputs": [],
   "source": []
  },
  {
   "cell_type": "code",
   "execution_count": null,
   "id": "ba4790c8-2064-4172-bbdb-81e637605611",
   "metadata": {},
   "outputs": [],
   "source": []
  },
  {
   "cell_type": "code",
   "execution_count": null,
   "id": "2aa0c18e-d69a-49ad-b385-e242c8ca0790",
   "metadata": {},
   "outputs": [],
   "source": []
  },
  {
   "cell_type": "code",
   "execution_count": null,
   "id": "2eec1b2c-2553-4f6a-8337-2c3045f2ff65",
   "metadata": {},
   "outputs": [],
   "source": []
  },
  {
   "cell_type": "code",
   "execution_count": null,
   "id": "203a22b8-2bb1-4e5e-a5a1-3e3c1f24a378",
   "metadata": {},
   "outputs": [],
   "source": []
  },
  {
   "cell_type": "code",
   "execution_count": null,
   "id": "a25d255f-730d-49e5-8723-28fcb9510e0c",
   "metadata": {},
   "outputs": [],
   "source": []
  },
  {
   "cell_type": "code",
   "execution_count": null,
   "id": "159f013b-b254-4b43-9c13-de9e3070315d",
   "metadata": {},
   "outputs": [],
   "source": []
  },
  {
   "cell_type": "code",
   "execution_count": null,
   "id": "4e2c5df6-6056-4a95-af7b-46d36b1de6ab",
   "metadata": {},
   "outputs": [],
   "source": []
  },
  {
   "cell_type": "code",
   "execution_count": null,
   "id": "c63124aa-bc6f-47c5-bd48-5f5cb71444ac",
   "metadata": {},
   "outputs": [],
   "source": []
  },
  {
   "cell_type": "code",
   "execution_count": null,
   "id": "182db286-22f9-4498-9fa4-0c06aa5bfd05",
   "metadata": {},
   "outputs": [],
   "source": []
  },
  {
   "cell_type": "code",
   "execution_count": null,
   "id": "99c519b2-b808-4f11-bdeb-a254ed106dab",
   "metadata": {},
   "outputs": [],
   "source": []
  },
  {
   "cell_type": "code",
   "execution_count": null,
   "id": "01509196-95b8-47fd-bc19-2f3cbc3a0504",
   "metadata": {},
   "outputs": [],
   "source": []
  },
  {
   "cell_type": "code",
   "execution_count": null,
   "id": "58d4a34e-60b5-4c06-a0f8-6a38cbfe6f71",
   "metadata": {},
   "outputs": [],
   "source": []
  },
  {
   "cell_type": "code",
   "execution_count": null,
   "id": "aa554bd5-482f-4dd8-9ade-85ec5432a744",
   "metadata": {},
   "outputs": [],
   "source": []
  },
  {
   "cell_type": "code",
   "execution_count": null,
   "id": "dd6e3ab1-35cb-4ced-8470-7e3743bb54c9",
   "metadata": {},
   "outputs": [],
   "source": []
  },
  {
   "cell_type": "code",
   "execution_count": null,
   "id": "fc6f4b0a-8927-436e-95f8-9fce648527eb",
   "metadata": {},
   "outputs": [],
   "source": []
  }
 ],
 "metadata": {
  "kernelspec": {
   "display_name": "Python 3 (ipykernel)",
   "language": "python",
   "name": "python3"
  },
  "language_info": {
   "codemirror_mode": {
    "name": "ipython",
    "version": 3
   },
   "file_extension": ".py",
   "mimetype": "text/x-python",
   "name": "python",
   "nbconvert_exporter": "python",
   "pygments_lexer": "ipython3",
   "version": "3.8.10"
  }
 },
 "nbformat": 4,
 "nbformat_minor": 5
}
