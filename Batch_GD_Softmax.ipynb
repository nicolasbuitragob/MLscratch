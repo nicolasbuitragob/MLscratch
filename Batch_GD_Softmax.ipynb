{
 "cells": [
  {
   "cell_type": "code",
   "execution_count": 1,
   "id": "apparent-insight",
   "metadata": {},
   "outputs": [],
   "source": [
    "import numpy as np\n",
    "import matplotlib.pyplot as plt\n",
    "from sklearn import datasets"
   ]
  },
  {
   "cell_type": "code",
   "execution_count": 2,
   "id": "convenient-sector",
   "metadata": {},
   "outputs": [],
   "source": [
    "\"\"\"\n",
    "Load data set \n",
    "\"\"\"\n",
    "iris = datasets.load_iris()\n",
    "X = iris['data']\n",
    "Y = iris['target']\n",
    "m,n = X.shape\n",
    "classes = np.unique(Y)\n",
    "k = len(classes)\n",
    "np.random.seed(0)\n",
    "theta = np.random.randn(k,n)"
   ]
  },
  {
   "cell_type": "code",
   "execution_count": 3,
   "id": "upset-intent",
   "metadata": {},
   "outputs": [],
   "source": [
    "def one_hot_y(y):\n",
    "    Y_one_hot = np.zeros((m,k))\n",
    "    Y_one_hot[np.arange(m),y] = 1\n",
    "    return Y_one_hot\n",
    "\n",
    "    "
   ]
  },
  {
   "cell_type": "code",
   "execution_count": 4,
   "id": "regulation-lesson",
   "metadata": {},
   "outputs": [],
   "source": [
    "y = one_hot_y(Y)"
   ]
  },
  {
   "cell_type": "code",
   "execution_count": 5,
   "id": "iraqi-partner",
   "metadata": {},
   "outputs": [],
   "source": [
    "#Bias Term\n",
    "X_with_bias = np.c_[np.ones(m),X]\n",
    "theta_init = np.c_[np.zeros(k),theta]"
   ]
  },
  {
   "cell_type": "code",
   "execution_count": 6,
   "id": "saving-finger",
   "metadata": {},
   "outputs": [],
   "source": [
    "def softmax(z):\n",
    "    a = np.exp(z)\n",
    "    b = np.sum(a,axis = 1,keepdims = True)\n",
    "    return a / b"
   ]
  },
  {
   "cell_type": "code",
   "execution_count": 7,
   "id": "handed-question",
   "metadata": {},
   "outputs": [
    {
     "data": {
      "text/plain": [
       "((3, 5), (150, 5))"
      ]
     },
     "execution_count": 7,
     "metadata": {},
     "output_type": "execute_result"
    }
   ],
   "source": [
    "theta_init.shape, X_with_bias.shape"
   ]
  },
  {
   "cell_type": "code",
   "execution_count": 8,
   "id": "rotary-antibody",
   "metadata": {},
   "outputs": [],
   "source": [
    "def train(theta,X,y,alpha):\n",
    "    theta_init = np.c_[np.zeros(k),theta]\n",
    "    cost = []\n",
    "    for i in range(1000):\n",
    "        z = np.dot(theta_init,X_with_bias.T).T\n",
    "        h = softmax(z)\n",
    "        ln_mult = y*np.log(h)\n",
    "        J = -(1/m)*np.sum(np.sum(ln_mult,axis = 1))\n",
    "        error = h - y\n",
    "        grad = (1/m)*error.T.dot(X_with_bias)\n",
    "        theta_init = theta_init -alpha*grad\n",
    "        cost.append(J)\n",
    "    return (h > 0.5).astype(int),cost"
   ]
  },
  {
   "cell_type": "code",
   "execution_count": null,
   "id": "composed-sector",
   "metadata": {},
   "outputs": [],
   "source": []
  },
  {
   "cell_type": "code",
   "execution_count": null,
   "id": "incomplete-groove",
   "metadata": {},
   "outputs": [],
   "source": []
  },
  {
   "cell_type": "code",
   "execution_count": null,
   "id": "bound-enough",
   "metadata": {},
   "outputs": [],
   "source": []
  },
  {
   "cell_type": "code",
   "execution_count": null,
   "id": "junior-pilot",
   "metadata": {},
   "outputs": [],
   "source": []
  },
  {
   "cell_type": "code",
   "execution_count": null,
   "id": "cosmetic-guarantee",
   "metadata": {},
   "outputs": [],
   "source": []
  },
  {
   "cell_type": "code",
   "execution_count": null,
   "id": "flush-medline",
   "metadata": {},
   "outputs": [],
   "source": []
  },
  {
   "cell_type": "code",
   "execution_count": null,
   "id": "parliamentary-japanese",
   "metadata": {},
   "outputs": [],
   "source": []
  },
  {
   "cell_type": "code",
   "execution_count": null,
   "id": "outer-degree",
   "metadata": {},
   "outputs": [],
   "source": []
  }
 ],
 "metadata": {
  "kernelspec": {
   "display_name": "Python 3",
   "language": "python",
   "name": "python3"
  },
  "language_info": {
   "codemirror_mode": {
    "name": "ipython",
    "version": 3
   },
   "file_extension": ".py",
   "mimetype": "text/x-python",
   "name": "python",
   "nbconvert_exporter": "python",
   "pygments_lexer": "ipython3",
   "version": "3.8.5"
  }
 },
 "nbformat": 4,
 "nbformat_minor": 5
}
