{
 "cells": [
  {
   "cell_type": "code",
   "execution_count": 1,
   "id": "imported-variance",
   "metadata": {},
   "outputs": [],
   "source": [
    "import numpy as np\n",
    "import matplotlib.pyplot as plt\n",
    "from sklearn import datasets"
   ]
  },
  {
   "cell_type": "code",
   "execution_count": 2,
   "id": "western-national",
   "metadata": {},
   "outputs": [],
   "source": [
    "\"\"\"\n",
    "Load data set \n",
    "\"\"\"\n",
    "iris = datasets.load_iris()\n",
    "X = iris['data']\n",
    "Y = iris['target']\n",
    "m,n = X.shape\n",
    "k = len(np.unique(Y))\n",
    "np.random.seed(0)\n",
    "theta = np.zeros((k,n))"
   ]
  },
  {
   "cell_type": "code",
   "execution_count": 3,
   "id": "advance-murder",
   "metadata": {},
   "outputs": [],
   "source": [
    "#Convert target vector into one hot vector\n",
    "def one_hot_y(y):\n",
    "    Y_one_hot = np.zeros((m,k))\n",
    "    Y_one_hot[np.arange(m),y] = 1\n",
    "    return Y_one_hot\n",
    "y = one_hot_y(Y)\n",
    "   "
   ]
  },
  {
   "cell_type": "code",
   "execution_count": 4,
   "id": "authentic-interference",
   "metadata": {},
   "outputs": [],
   "source": [
    "#Add bias Term\n",
    "X_with_bias = np.c_[np.ones(m),X]\n",
    "theta_init = np.c_[np.zeros(k),theta]"
   ]
  },
  {
   "cell_type": "code",
   "execution_count": 69,
   "id": "persistent-queue",
   "metadata": {},
   "outputs": [],
   "source": [
    "from sklearn.model_selection import train_test_split\n",
    "X_train,X_test,y_train,y_test = train_test_split(X_with_bias,y)"
   ]
  },
  {
   "cell_type": "code",
   "execution_count": 70,
   "id": "israeli-washington",
   "metadata": {},
   "outputs": [],
   "source": [
    "#Softmax Function\n",
    "def softmax(z):\n",
    "    a = np.exp(z)\n",
    "    b = np.sum(a,axis = 1,keepdims = True)\n",
    "    return a / b"
   ]
  },
  {
   "cell_type": "code",
   "execution_count": 71,
   "id": "casual-promise",
   "metadata": {},
   "outputs": [],
   "source": [
    "\n",
    "def softmax_regression(X,y,theta,alpha):\n",
    "    cost = []\n",
    "    reg = 0.1\n",
    "    for i in range(1001):\n",
    "        l2_loss = (1/2)*np.sum(np.square(theta[1:]))\n",
    "        z = np.dot(X,theta.T)\n",
    "        h = softmax(z)\n",
    "        J = (-1/m)*np.sum(np.sum(y*np.log(h),axis = 1))+reg*l2_loss\n",
    "        error = h - y\n",
    "        grad = (1/m)*(np.dot(X.T,error))\n",
    "        theta = theta -alpha*grad.T\n",
    "        if i % 500 == 0:\n",
    "            print(i, J)\n",
    "        cost.append(J)\n",
    "    pred = np.argmax(z,axis = 1)\n",
    "    \n",
    "    return theta_init,pred,cost"
   ]
  },
  {
   "cell_type": "code",
   "execution_count": 72,
   "id": "tamil-present",
   "metadata": {},
   "outputs": [
    {
     "name": "stdout",
     "output_type": "stream",
     "text": [
      "0 0.8202971755388552\n",
      "500 0.21176760287778662\n",
      "1000 0.15561866147288608\n"
     ]
    }
   ],
   "source": [
    "\n",
    "theta,train_pred , cost = softmax_regression(X_train,y_train,theta_init,0.05)"
   ]
  },
  {
   "cell_type": "code",
   "execution_count": 73,
   "id": "virgin-burke",
   "metadata": {},
   "outputs": [
    {
     "data": {
      "image/png": "[encoded data removed]",
      "text/plain": [
       "<Figure size 432x288 with 1 Axes>"
      ]
     },
     "metadata": {
      "needs_background": "light"
     },
     "output_type": "display_data"
    }
   ],
   "source": [
    "plt.plot(cost)\n",
    "plt.show()"
   ]
  },
  {
   "cell_type": "code",
   "execution_count": 74,
   "id": "norman-karen",
   "metadata": {},
   "outputs": [
    {
     "data": {
      "text/plain": [
       "0.9642857142857143"
      ]
     },
     "execution_count": 74,
     "metadata": {},
     "output_type": "execute_result"
    }
   ],
   "source": [
    "from sklearn.metrics import accuracy_score\n",
    "y_train_k = np.argmax(y_train,axis = 1)\n",
    "acc_train = accuracy_score(y_train_k,train_pred)\n",
    "acc_train"
   ]
  },
  {
   "cell_type": "code",
   "execution_count": 75,
   "id": "photographic-verification",
   "metadata": {},
   "outputs": [
    {
     "data": {
      "text/plain": [
       "0.2894736842105263"
      ]
     },
     "execution_count": 75,
     "metadata": {},
     "output_type": "execute_result"
    }
   ],
   "source": [
    "test_pred = np.argmax(softmax(np.dot(X_test,theta.T)),axis = 1)\n",
    "y_test_k = np.argmax(y_test,axis = 1)\n",
    "acc_test = accuracy_score(y_test_k,test_pred)\n",
    "acc_test"
   ]
  },
  {
   "cell_type": "code",
   "execution_count": 76,
   "id": "lined-serial",
   "metadata": {},
   "outputs": [
    {
     "data": {
      "text/plain": [
       "array([0, 0, 0, 0, 0, 0, 0, 0, 0, 0, 0, 0, 0, 0, 0, 0, 0, 0, 0, 0, 0, 0,\n",
       "       0, 0, 0, 0, 0, 0, 0, 0, 0, 0, 0, 0, 0, 0, 0, 0])"
      ]
     },
     "execution_count": 76,
     "metadata": {},
     "output_type": "execute_result"
    }
   ],
   "source": [
    "test_pred"
   ]
  },
  {
   "cell_type": "code",
   "execution_count": 77,
   "id": "activated-liechtenstein",
   "metadata": {},
   "outputs": [
    {
     "data": {
      "text/plain": [
       "array([2, 0, 2, 0, 0, 2, 2, 1, 1, 2, 2, 1, 2, 2, 1, 1, 2, 2, 2, 1, 0, 2,\n",
       "       1, 1, 0, 2, 2, 0, 1, 0, 0, 2, 1, 0, 2, 0, 0, 1])"
      ]
     },
     "execution_count": 77,
     "metadata": {},
     "output_type": "execute_result"
    }
   ],
   "source": [
    "y_test_k"
   ]
  },
  {
   "cell_type": "code",
   "execution_count": null,
   "id": "educational-secretary",
   "metadata": {},
   "outputs": [],
   "source": []
  },
  {
   "cell_type": "code",
   "execution_count": 22,
   "id": "signal-crossing",
   "metadata": {},
   "outputs": [],
   "source": []
  },
  {
   "cell_type": "code",
   "execution_count": 23,
   "id": "atlantic-former",
   "metadata": {},
   "outputs": [],
   "source": []
  },
  {
   "cell_type": "code",
   "execution_count": null,
   "id": "standard-resource",
   "metadata": {},
   "outputs": [],
   "source": []
  },
  {
   "cell_type": "code",
   "execution_count": null,
   "id": "correct-horizontal",
   "metadata": {},
   "outputs": [],
   "source": []
  },
  {
   "cell_type": "code",
   "execution_count": null,
   "id": "interior-particular",
   "metadata": {},
   "outputs": [],
   "source": []
  },
  {
   "cell_type": "code",
   "execution_count": null,
   "id": "governing-newark",
   "metadata": {},
   "outputs": [],
   "source": []
  },
  {
   "cell_type": "code",
   "execution_count": null,
   "id": "passive-integration",
   "metadata": {},
   "outputs": [],
   "source": []
  },
  {
   "cell_type": "code",
   "execution_count": null,
   "id": "neural-therapy",
   "metadata": {},
   "outputs": [],
   "source": []
  },
  {
   "cell_type": "code",
   "execution_count": null,
   "id": "restricted-worship",
   "metadata": {},
   "outputs": [],
   "source": []
  }
 ],
 "metadata": {
  "kernelspec": {
   "display_name": "Python 3",
   "language": "python",
   "name": "python3"
  },
  "language_info": {
   "codemirror_mode": {
    "name": "ipython",
    "version": 3
   },
   "file_extension": ".py",
   "mimetype": "text/x-python",
   "name": "python",
   "nbconvert_exporter": "python",
   "pygments_lexer": "ipython3",
   "version": "3.8.5"
  }
 },
 "nbformat": 4,
 "nbformat_minor": 5
}
