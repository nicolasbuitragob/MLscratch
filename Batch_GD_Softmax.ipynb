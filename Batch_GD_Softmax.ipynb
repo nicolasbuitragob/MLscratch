{
 "cells": [
  {
   "cell_type": "code",
   "execution_count": 1,
   "id": "ahead-jefferson",
   "metadata": {},
   "outputs": [],
   "source": [
    "import numpy as np\n",
    "import matplotlib.pyplot as plt\n",
    "from sklearn import datasets"
   ]
  },
  {
   "cell_type": "code",
   "execution_count": 2,
   "id": "nasty-direction",
   "metadata": {},
   "outputs": [],
   "source": [
    "\"\"\"\n",
    "Load data set \n",
    "\"\"\"\n",
    "iris = datasets.load_iris()\n",
    "X = iris['data']\n",
    "Y = iris['target']\n",
    "m,n = X.shape\n",
    "classes = np.unique(Y)\n",
    "k = len(classes)\n",
    "np.random.seed(0)\n",
    "theta = np.random.randn(k,n)"
   ]
  },
  {
   "cell_type": "code",
   "execution_count": 3,
   "id": "professional-mumbai",
   "metadata": {},
   "outputs": [],
   "source": [
    "def one_hot_y(y):\n",
    "    Y_one_hot = np.zeros((m,k))\n",
    "    Y_one_hot[np.arange(m),y] = 1\n",
    "    return Y_one_hot\n",
    "\n",
    "    "
   ]
  },
  {
   "cell_type": "code",
   "execution_count": 4,
   "id": "advisory-dryer",
   "metadata": {},
   "outputs": [],
   "source": [
    "y = one_hot_y(Y)"
   ]
  },
  {
   "cell_type": "code",
   "execution_count": 9,
   "id": "signal-elements",
   "metadata": {},
   "outputs": [
    {
     "data": {
      "text/plain": [
       "array([[ 0.        ,  1.76405235,  0.40015721,  0.97873798,  2.2408932 ],\n",
       "       [ 0.        ,  1.86755799, -0.97727788,  0.95008842, -0.15135721],\n",
       "       [ 0.        , -0.10321885,  0.4105985 ,  0.14404357,  1.45427351]])"
      ]
     },
     "execution_count": 9,
     "metadata": {},
     "output_type": "execute_result"
    }
   ],
   "source": [
    "#Bias Term\n",
    "X_with_bias = np.c_[np.ones(m),X]\n",
    "theta_init = np.c_[np.zeros(k),theta]\n",
    "theta_init"
   ]
  },
  {
   "cell_type": "code",
   "execution_count": 6,
   "id": "tender-privacy",
   "metadata": {},
   "outputs": [],
   "source": [
    "def softmax(z):\n",
    "    a = np.exp(z)\n",
    "    b = np.sum(a,axis = 1,keepdims = True)\n",
    "    return a / b"
   ]
  },
  {
   "cell_type": "code",
   "execution_count": 7,
   "id": "thrown-romantic",
   "metadata": {},
   "outputs": [
    {
     "data": {
      "text/plain": [
       "((3, 5), (150, 5))"
      ]
     },
     "execution_count": 7,
     "metadata": {},
     "output_type": "execute_result"
    }
   ],
   "source": [
    "theta_init.shape, X_with_bias.shape"
   ]
  },
  {
   "cell_type": "code",
   "execution_count": 8,
   "id": "continued-naples",
   "metadata": {},
   "outputs": [],
   "source": [
    "def train(theta,X,y,alpha):\n",
    "    theta_init = np.c_[np.zeros(k),theta]\n",
    "    cost = []\n",
    "    for i in range(1000):\n",
    "        z = np.dot(theta_init,X_with_bias.T).T\n",
    "        h = softmax(z)\n",
    "        ln_mult = y*np.log(h)\n",
    "        J = -(1/m)*np.sum(np.sum(ln_mult,axis = 1))\n",
    "        error = h - y\n",
    "        grad = (1/m)*error.T.dot(X_with_bias)\n",
    "        theta_init = theta_init -alpha*grad\n",
    "        cost.append(J)\n",
    "    return (h > 0.5).astype(int),cost"
   ]
  },
  {
   "cell_type": "code",
   "execution_count": null,
   "id": "cooperative-dependence",
   "metadata": {},
   "outputs": [],
   "source": []
  },
  {
   "cell_type": "code",
   "execution_count": null,
   "id": "curious-advertiser",
   "metadata": {},
   "outputs": [],
   "source": []
  },
  {
   "cell_type": "code",
   "execution_count": null,
   "id": "running-manor",
   "metadata": {},
   "outputs": [],
   "source": []
  },
  {
   "cell_type": "code",
   "execution_count": null,
   "id": "advance-sensitivity",
   "metadata": {},
   "outputs": [],
   "source": []
  },
  {
   "cell_type": "code",
   "execution_count": null,
   "id": "intelligent-saudi",
   "metadata": {},
   "outputs": [],
   "source": []
  },
  {
   "cell_type": "code",
   "execution_count": null,
   "id": "patient-memorabilia",
   "metadata": {},
   "outputs": [],
   "source": []
  },
  {
   "cell_type": "code",
   "execution_count": null,
   "id": "unlikely-arrival",
   "metadata": {},
   "outputs": [],
   "source": []
  },
  {
   "cell_type": "code",
   "execution_count": null,
   "id": "loving-marijuana",
   "metadata": {},
   "outputs": [],
   "source": []
  }
 ],
 "metadata": {
  "kernelspec": {
   "display_name": "Python 3",
   "language": "python",
   "name": "python3"
  },
  "language_info": {
   "codemirror_mode": {
    "name": "ipython",
    "version": 3
   },
   "file_extension": ".py",
   "mimetype": "text/x-python",
   "name": "python",
   "nbconvert_exporter": "python",
   "pygments_lexer": "ipython3",
   "version": "3.8.5"
  }
 },
 "nbformat": 4,
 "nbformat_minor": 5
}
