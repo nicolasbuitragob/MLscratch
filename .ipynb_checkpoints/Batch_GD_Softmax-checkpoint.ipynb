{
 "cells": [
  {
   "cell_type": "code",
   "execution_count": 1,
   "id": "stupid-staff",
   "metadata": {},
   "outputs": [],
   "source": [
    "import numpy as np\n",
    "import matplotlib.pyplot as plt\n",
    "from sklearn import datasets"
   ]
  },
  {
   "cell_type": "code",
   "execution_count": 41,
   "id": "worthy-savannah",
   "metadata": {},
   "outputs": [],
   "source": [
    "\"\"\"\n",
    "Load data set \n",
    "\"\"\"\n",
    "iris = datasets.load_iris()\n",
    "X = iris['data']\n",
    "Y = iris['target']\n",
    "m,n = X.shape\n",
    "k = len(np.unique(Y))\n",
    "np.random.seed(0)\n",
    "theta = np.zeros((k,n))"
   ]
  },
  {
   "cell_type": "code",
   "execution_count": 42,
   "id": "interpreted-pleasure",
   "metadata": {},
   "outputs": [],
   "source": [
    "#Convert target vector into one hot vector\n",
    "def one_hot_y(y):\n",
    "    Y_one_hot = np.zeros((m,k))\n",
    "    Y_one_hot[np.arange(m),y] = 1\n",
    "    return Y_one_hot\n",
    "y = one_hot_y(Y)\n",
    "   "
   ]
  },
  {
   "cell_type": "code",
   "execution_count": 43,
   "id": "liberal-mention",
   "metadata": {},
   "outputs": [],
   "source": [
    "#Add bias Term\n",
    "X_with_bias = np.c_[np.ones(m),X]\n",
    "theta_init = np.c_[np.zeros(k),theta]"
   ]
  },
  {
   "cell_type": "code",
   "execution_count": 65,
   "id": "great-realtor",
   "metadata": {},
   "outputs": [],
   "source": [
    "from sklearn.model_selection import train_test_split\n",
    "X_train,X_test,y_train,y_test = train_test_split(X_with_bias,y)"
   ]
  },
  {
   "cell_type": "code",
   "execution_count": 66,
   "id": "under-austria",
   "metadata": {},
   "outputs": [],
   "source": [
    "#Softmax Function\n",
    "def softmax(z):\n",
    "    a = np.exp(z)\n",
    "    b = np.sum(a,axis = 1,keepdims = True)\n",
    "    return a / b"
   ]
  },
  {
   "cell_type": "code",
   "execution_count": 67,
   "id": "standard-keyboard",
   "metadata": {},
   "outputs": [],
   "source": [
    "\n",
    "def softmax_regression(X,y,theta,alpha,iterations):\n",
    "    cost = []\n",
    "    reg = 0.1\n",
    "    for i in range(iterations):\n",
    "        l2_loss = (1/2)*np.sum(np.square(theta[1:]))\n",
    "        z = np.dot(X,theta.T)\n",
    "        h = softmax(z)\n",
    "        J = (-1/m)*np.sum(np.sum(y*np.log(h),axis = 1))#+reg*l2_loss\n",
    "        error = h - y\n",
    "        grad = (1/m)*(np.dot(X.T,error))\n",
    "        theta = theta -alpha*grad.T\n",
    "        cost.append(J)\n",
    "        #if cost[i] > cost[i-1]:\n",
    "            #break\n",
    "        if i % 500 == 0:\n",
    "            print(i, J)\n",
    "        \n",
    "    pred = np.argmax(z,axis = 1)\n",
    "    \n",
    "    return theta,pred,cost"
   ]
  },
  {
   "cell_type": "code",
   "execution_count": 68,
   "id": "colonial-pepper",
   "metadata": {},
   "outputs": [
    {
     "name": "stdout",
     "output_type": "stream",
     "text": [
      "0 0.8202971755388552\n",
      "500 0.3491957557792526\n",
      "1000 0.28301228699364006\n"
     ]
    },
    {
     "data": {
      "text/plain": [
       "1001"
      ]
     },
     "execution_count": 68,
     "metadata": {},
     "output_type": "execute_result"
    }
   ],
   "source": [
    "theta,train_pred , cost = softmax_regression(X_train,y_train,theta_init,0.01,1001)\n",
    "len(cost)"
   ]
  },
  {
   "cell_type": "code",
   "execution_count": 69,
   "id": "biblical-uruguay",
   "metadata": {},
   "outputs": [
    {
     "data": {
      "image/png": "[encoded data removed]",
      "text/plain": [
       "<Figure size 432x288 with 1 Axes>"
      ]
     },
     "metadata": {
      "needs_background": "light"
     },
     "output_type": "display_data"
    }
   ],
   "source": [
    "plt.plot(cost)\n",
    "plt.show()"
   ]
  },
  {
   "cell_type": "code",
   "execution_count": 70,
   "id": "declared-request",
   "metadata": {},
   "outputs": [
    {
     "data": {
      "text/plain": [
       "0.9642857142857143"
      ]
     },
     "execution_count": 70,
     "metadata": {},
     "output_type": "execute_result"
    }
   ],
   "source": [
    "from sklearn.metrics import accuracy_score\n",
    "y_train_k = np.argmax(y_train,axis = 1)\n",
    "acc_train = accuracy_score(y_train_k,train_pred)\n",
    "acc_train"
   ]
  },
  {
   "cell_type": "code",
   "execution_count": 71,
   "id": "german-aquarium",
   "metadata": {},
   "outputs": [
    {
     "data": {
      "text/plain": [
       "0.9473684210526315"
      ]
     },
     "execution_count": 71,
     "metadata": {},
     "output_type": "execute_result"
    }
   ],
   "source": [
    "test_pred = np.argmax(softmax(np.dot(X_test,theta.T)),axis = 1)\n",
    "y_test_k = np.argmax(y_test,axis = 1)\n",
    "acc_test = accuracy_score(y_test_k,test_pred)\n",
    "acc_test"
   ]
  },
  {
   "cell_type": "code",
   "execution_count": 72,
   "id": "transsexual-raleigh",
   "metadata": {},
   "outputs": [
    {
     "data": {
      "text/plain": [
       "array([1, 2, 2, 2, 0, 2, 2, 1, 0, 1, 0, 2, 1, 2, 0, 2, 0, 1, 0, 1, 1, 0,\n",
       "       2, 1, 2, 0, 1, 2, 1, 1, 1, 2, 2, 1, 0, 2, 2, 2])"
      ]
     },
     "execution_count": 72,
     "metadata": {},
     "output_type": "execute_result"
    }
   ],
   "source": [
    "test_pred"
   ]
  },
  {
   "cell_type": "code",
   "execution_count": 73,
   "id": "conservative-emission",
   "metadata": {},
   "outputs": [
    {
     "data": {
      "text/plain": [
       "array([1, 2, 2, 2, 0, 2, 2, 1, 0, 1, 0, 2, 1, 1, 0, 2, 0, 1, 0, 1, 1, 0,\n",
       "       2, 1, 2, 0, 1, 2, 1, 1, 1, 2, 2, 1, 0, 2, 1, 2])"
      ]
     },
     "execution_count": 73,
     "metadata": {},
     "output_type": "execute_result"
    }
   ],
   "source": [
    "y_test_k"
   ]
  },
  {
   "cell_type": "code",
   "execution_count": null,
   "id": "verbal-magnitude",
   "metadata": {},
   "outputs": [],
   "source": []
  },
  {
   "cell_type": "code",
   "execution_count": null,
   "id": "legitimate-corner",
   "metadata": {},
   "outputs": [],
   "source": []
  },
  {
   "cell_type": "code",
   "execution_count": null,
   "id": "major-expert",
   "metadata": {},
   "outputs": [],
   "source": []
  },
  {
   "cell_type": "code",
   "execution_count": null,
   "id": "emerging-glance",
   "metadata": {},
   "outputs": [],
   "source": []
  },
  {
   "cell_type": "code",
   "execution_count": null,
   "id": "parliamentary-triangle",
   "metadata": {},
   "outputs": [],
   "source": []
  },
  {
   "cell_type": "code",
   "execution_count": null,
   "id": "serial-advance",
   "metadata": {},
   "outputs": [],
   "source": []
  },
  {
   "cell_type": "code",
   "execution_count": null,
   "id": "wicked-robin",
   "metadata": {},
   "outputs": [],
   "source": []
  },
  {
   "cell_type": "code",
   "execution_count": null,
   "id": "protective-technique",
   "metadata": {},
   "outputs": [],
   "source": []
  },
  {
   "cell_type": "code",
   "execution_count": null,
   "id": "refined-denial",
   "metadata": {},
   "outputs": [],
   "source": []
  },
  {
   "cell_type": "code",
   "execution_count": null,
   "id": "annual-array",
   "metadata": {},
   "outputs": [],
   "source": []
  }
 ],
 "metadata": {
  "kernelspec": {
   "display_name": "Python 3",
   "language": "python",
   "name": "python3"
  },
  "language_info": {
   "codemirror_mode": {
    "name": "ipython",
    "version": 3
   },
   "file_extension": ".py",
   "mimetype": "text/x-python",
   "name": "python",
   "nbconvert_exporter": "python",
   "pygments_lexer": "ipython3",
   "version": "3.8.5"
  }
 },
 "nbformat": 4,
 "nbformat_minor": 5
}
