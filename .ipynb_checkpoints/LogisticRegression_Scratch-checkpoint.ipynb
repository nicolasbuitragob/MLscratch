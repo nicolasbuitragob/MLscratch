{
 "cells": [
  {
   "cell_type": "code",
   "execution_count": 67,
   "metadata": {},
   "outputs": [],
   "source": [
    "import numpy as np\n",
    "import random\n",
    "import matplotlib.pyplot as plt\n",
    "from sklearn import datasets"
   ]
  },
  {
   "cell_type": "code",
   "execution_count": 68,
   "metadata": {},
   "outputs": [],
   "source": [
    "#Define Sigmoid function\n",
    "def sigmoid(x):\n",
    "    z = 1/(1 + np.exp(-x)) \n",
    "    return z\n",
    "\n",
    "random.seed(0)\n",
    "A = np.random.randint(5,size=(100000,15))\n",
    "y_zeros = np.zeros((50000,1))\n",
    "y_ones = np.ones((50000,1))\n",
    "y = np.concatenate((y_zeros,y_ones))\n",
    "random.shuffle(y)"
   ]
  },
  {
   "cell_type": "code",
   "execution_count": 69,
   "metadata": {},
   "outputs": [],
   "source": [
    "##Initiate variables and feed the data\n",
    "dim = A.shape[1]\n",
    "def initialize_variables(dim,A, y):\n",
    "    theta = np.zeros((dim,1))\n",
    "    m = len(y)    \n",
    "    return theta, A, y,m\n",
    "theta, A,y,m = initialize_variables(dim,A,y)"
   ]
  },
  {
   "cell_type": "code",
   "execution_count": 70,
   "metadata": {},
   "outputs": [],
   "source": [
    "#Implement logistic regression\n",
    "\n",
    "def logistic_regression(theta,A,iter_num,alpha):   \n",
    "    cost = [] ##keep track of cost values \n",
    "    for i in range(iter_num):\n",
    "        h = np.dot(A,theta)\n",
    "        z = sigmoid(h)                 \n",
    "        J = (1/m)*(-np.dot(y.T,np.log(z)) - (np.dot((1-y).T,np.log(1-z))))\n",
    "        cost.append(J[0][0])\n",
    "        theta = theta - ((alpha /m)*np.dot(A.T,(z-y)))\n",
    "        \n",
    "    return z,cost,theta"
   ]
  },
  {
   "cell_type": "code",
   "execution_count": 71,
   "metadata": {},
   "outputs": [],
   "source": [
    "z ,cost, theta = logistic_regression(theta,A,4000,0.001)\n"
   ]
  },
  {
   "cell_type": "code",
   "execution_count": 72,
   "metadata": {},
   "outputs": [
    {
     "data": {
      "text/plain": [
       "[<matplotlib.lines.Line2D at 0x7f3679b5de20>]"
      ]
     },
     "execution_count": 72,
     "metadata": {},
     "output_type": "execute_result"
    },
    {
     "data": {
      "image/png": "[encoded data removed]",
      "text/plain": [
       "<Figure size 432x288 with 1 Axes>"
      ]
     },
     "metadata": {
      "needs_background": "light"
     },
     "output_type": "display_data"
    }
   ],
   "source": [
    "##PLOT COST TO SEE IF IT IS WORKING\n",
    "plt.plot(cost)"
   ]
  },
  {
   "cell_type": "code",
   "execution_count": 73,
   "metadata": {},
   "outputs": [
    {
     "data": {
      "text/plain": [
       "0.4331235100599644"
      ]
     },
     "execution_count": 73,
     "metadata": {},
     "output_type": "execute_result"
    }
   ],
   "source": [
    "cost[3999]"
   ]
  },
  {
   "cell_type": "code",
   "execution_count": 77,
   "metadata": {},
   "outputs": [
    {
     "data": {
      "text/plain": [
       "array([[-0.05996245],\n",
       "       [-0.05655851],\n",
       "       [-0.05529936],\n",
       "       [-0.05685048],\n",
       "       [-0.05193896],\n",
       "       [-0.0572151 ],\n",
       "       [-0.05443939],\n",
       "       [-0.05788106],\n",
       "       [-0.05552086],\n",
       "       [-0.05364662],\n",
       "       [-0.06387375],\n",
       "       [-0.05660284],\n",
       "       [-0.0577718 ],\n",
       "       [-0.05591539],\n",
       "       [-0.05325273]])"
      ]
     },
     "execution_count": 77,
     "metadata": {},
     "output_type": "execute_result"
    }
   ],
   "source": [
    "theta\n"
   ]
  },
  {
   "cell_type": "code",
   "execution_count": null,
   "metadata": {},
   "outputs": [],
   "source": []
  },
  {
   "cell_type": "code",
   "execution_count": null,
   "metadata": {},
   "outputs": [],
   "source": []
  },
  {
   "cell_type": "code",
   "execution_count": null,
   "metadata": {},
   "outputs": [],
   "source": []
  }
 ],
 "metadata": {
  "kernelspec": {
   "display_name": "Python 3",
   "language": "python",
   "name": "python3"
  },
  "language_info": {
   "codemirror_mode": {
    "name": "ipython",
    "version": 3
   },
   "file_extension": ".py",
   "mimetype": "text/x-python",
   "name": "python",
   "nbconvert_exporter": "python",
   "pygments_lexer": "ipython3",
   "version": "3.8.5"
  }
 },
 "nbformat": 4,
 "nbformat_minor": 4
}
