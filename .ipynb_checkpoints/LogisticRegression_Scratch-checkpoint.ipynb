{
 "cells": [
  {
   "cell_type": "code",
   "execution_count": 1,
   "metadata": {},
   "outputs": [],
   "source": [
    "import numpy as np\n",
    "import random\n",
    "import matplotlib.pyplot as plt\n",
    "from sklearn import datasets"
   ]
  },
  {
   "cell_type": "code",
   "execution_count": 2,
   "metadata": {},
   "outputs": [],
   "source": [
    "#Load data\n",
    "data = datasets.load_breast_cancer()\n",
    "X = data['data']\n",
    "y = data['target']\n"
   ]
  },
  {
   "cell_type": "code",
   "execution_count": 3,
   "metadata": {},
   "outputs": [],
   "source": [
    "#np.random.seed(0)\n",
    "m,n = X.shape\n",
    "theta = np.zeros(n) #random initialization of theta\n",
    "\n",
    "#add bias terms to X and theta\n",
    "X_with_bias = np.c_[np.ones(m),X] \n",
    "theta_with_bias = np.insert(theta,0,0)\n"
   ]
  },
  {
   "cell_type": "code",
   "execution_count": 14,
   "metadata": {},
   "outputs": [],
   "source": [
    "#Split Data\n",
    "from sklearn.model_selection import train_test_split\n",
    "X_train,X_test,y_train,y_test = train_test_split(X_with_bias,y,random_state = 15)\n"
   ]
  },
  {
   "cell_type": "code",
   "execution_count": 15,
   "metadata": {},
   "outputs": [],
   "source": [
    "#Scaling X\n",
    "\n",
    "from sklearn.preprocessing import StandardScaler\n",
    "scaler = StandardScaler()\n",
    "X_train_scaled = scaler.fit_transform(X_train)\n",
    "X_test_scaled = scaler.transform(X_test)\n"
   ]
  },
  {
   "cell_type": "code",
   "execution_count": 16,
   "metadata": {},
   "outputs": [],
   "source": [
    "#Define Sigmoid function\n",
    "def sigmoid(x):\n",
    "    z = 1/(1 + np.exp(-x)) \n",
    "    return z\n"
   ]
  },
  {
   "cell_type": "code",
   "execution_count": 17,
   "metadata": {},
   "outputs": [],
   "source": [
    "##Function for training data\n",
    "def log_reg(theta,X,y,alpha):\n",
    "    cost = []\n",
    "    for i in range(10001):\n",
    "        h = np.dot(theta,X.T)\n",
    "        z = sigmoid(h)    \n",
    "        J = (-1/m)*np.sum(y*np.log(z)+(1-z)*np.log(1-z))\n",
    "        cost.append(J)\n",
    "        error = z - y\n",
    "        grad = (1/m)*np.sum(error*X.T)\n",
    "        theta =  theta - grad*alpha\n",
    "        if i % 500 == 0:\n",
    "            print(i, J)\n",
    "    pred = (z>=0.5).astype(int)\n",
    "    return pred,theta,cost"
   ]
  },
  {
   "cell_type": "code",
   "execution_count": 18,
   "metadata": {},
   "outputs": [
    {
     "name": "stdout",
     "output_type": "stream",
     "text": [
      "0 0.5847287287676164\n",
      "500 0.29311115127957055\n",
      "1000 0.2931111512795701\n",
      "1500 0.2931111512795701\n",
      "2000 0.2931111512795701\n",
      "2500 0.2931111512795701\n",
      "3000 0.2931111512795701\n",
      "3500 0.2931111512795701\n",
      "4000 0.2931111512795701\n",
      "4500 0.2931111512795701\n",
      "5000 0.2931111512795701\n",
      "5500 0.2931111512795701\n",
      "6000 0.2931111512795701\n",
      "6500 0.2931111512795701\n",
      "7000 0.2931111512795701\n",
      "7500 0.2931111512795701\n",
      "8000 0.2931111512795701\n",
      "8500 0.2931111512795701\n",
      "9000 0.2931111512795701\n",
      "9500 0.2931111512795701\n",
      "10000 0.2931111512795701\n"
     ]
    }
   ],
   "source": [
    "#Training the data\n",
    "pred_train, theta,cost = log_reg(theta_with_bias,X_train_scaled,y_train,0.01)\n"
   ]
  },
  {
   "cell_type": "code",
   "execution_count": 19,
   "metadata": {},
   "outputs": [
    {
     "data": {
      "image/png": "[encoded data removed]",
      "text/plain": [
       "<Figure size 432x288 with 1 Axes>"
      ]
     },
     "metadata": {
      "needs_background": "light"
     },
     "output_type": "display_data"
    }
   ],
   "source": [
    "#Plotting Cost FUnction to see if it is working properly\n",
    "plt.plot(cost)\n",
    "plt.show()"
   ]
  },
  {
   "cell_type": "code",
   "execution_count": 20,
   "metadata": {},
   "outputs": [],
   "source": [
    "from sklearn.metrics import accuracy_score"
   ]
  },
  {
   "cell_type": "code",
   "execution_count": 21,
   "metadata": {},
   "outputs": [],
   "source": [
    "test_pred = sigmoid(np.dot(theta,X_test_scaled.T))\n",
    "test_pred = (test_pred>=0.5).astype(int)"
   ]
  },
  {
   "cell_type": "code",
   "execution_count": 22,
   "metadata": {},
   "outputs": [
    {
     "data": {
      "text/plain": [
       "0.903755868544601"
      ]
     },
     "execution_count": 22,
     "metadata": {},
     "output_type": "execute_result"
    }
   ],
   "source": [
    "acc_train = accuracy_score(y_train,pred_train)\n",
    "acc_train"
   ]
  },
  {
   "cell_type": "code",
   "execution_count": 23,
   "metadata": {},
   "outputs": [
    {
     "data": {
      "text/plain": [
       "0.8671328671328671"
      ]
     },
     "execution_count": 23,
     "metadata": {},
     "output_type": "execute_result"
    }
   ],
   "source": [
    "acc_test = accuracy_score(y_test,test_pred)\n",
    "acc_test"
   ]
  },
  {
   "cell_type": "code",
   "execution_count": null,
   "metadata": {},
   "outputs": [],
   "source": []
  },
  {
   "cell_type": "code",
   "execution_count": null,
   "metadata": {},
   "outputs": [],
   "source": []
  },
  {
   "cell_type": "code",
   "execution_count": null,
   "metadata": {},
   "outputs": [],
   "source": []
  },
  {
   "cell_type": "code",
   "execution_count": null,
   "metadata": {},
   "outputs": [],
   "source": []
  }
 ],
 "metadata": {
  "kernelspec": {
   "display_name": "Python 3",
   "language": "python",
   "name": "python3"
  },
  "language_info": {
   "codemirror_mode": {
    "name": "ipython",
    "version": 3
   },
   "file_extension": ".py",
   "mimetype": "text/x-python",
   "name": "python",
   "nbconvert_exporter": "python",
   "pygments_lexer": "ipython3",
   "version": "3.8.5"
  }
 },
 "nbformat": 4,
 "nbformat_minor": 4
}
