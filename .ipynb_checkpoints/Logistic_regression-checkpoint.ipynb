{
 "cells": [
  {
   "cell_type": "markdown",
   "id": "5140b903-0d84-4933-9887-593f9477e3ea",
   "metadata": {},
   "source": [
    "# Logistic Regression from scratch\n",
    "\n",
    "Our second model is logistic regression. In this first example we will perform a binary classification\n",
    "\n",
    "We will train the algorithm in the [titanic](https://www.kaggle.com/c/titanic) dataset from kaggle.\n",
    "\n",
    "I have already done an EDA and feature engineering so we have a ready to use dataset. More information here"
   ]
  },
  {
   "cell_type": "code",
   "execution_count": 1,
   "id": "33082c4d-7479-4e43-93ba-fe2294b05eee",
   "metadata": {},
   "outputs": [],
   "source": [
    "import numpy as np\n",
    "import random\n",
    "import matplotlib.pyplot as plt\n",
    "import pandas as pd"
   ]
  },
  {
   "cell_type": "code",
   "execution_count": 2,
   "id": "97011d02-641c-4021-9059-687530ebf2a3",
   "metadata": {},
   "outputs": [],
   "source": [
    "#Load data\n",
    "df = pd.read_csv('train_file.csv')"
   ]
  },
  {
   "cell_type": "code",
   "execution_count": 3,
   "id": "87e41e2a-c125-42f5-b76a-dad3dd947dd0",
   "metadata": {},
   "outputs": [],
   "source": [
    "y = df['Survived']\n",
    "df.drop('Survived',inplace = True,axis = 1)"
   ]
  },
  {
   "cell_type": "code",
   "execution_count": 4,
   "id": "6bce553f-2e54-45fc-8810-7e37c23ff677",
   "metadata": {},
   "outputs": [],
   "source": [
    "X = np.array(df)\n",
    "y = np.array(y)"
   ]
  },
  {
   "cell_type": "code",
   "execution_count": 5,
   "id": "9db88784-7c5f-435c-9caa-f62dc618c366",
   "metadata": {},
   "outputs": [],
   "source": [
    "from sklearn.preprocessing import StandardScaler\n",
    "scaler = StandardScaler()\n",
    "X_scaled = scaler.fit_transform(X)"
   ]
  },
  {
   "cell_type": "code",
   "execution_count": 6,
   "id": "11e7f670-ee8f-4d2d-8299-72d9e39ac374",
   "metadata": {},
   "outputs": [],
   "source": [
    "from sklearn.model_selection import train_test_split"
   ]
  },
  {
   "cell_type": "code",
   "execution_count": 7,
   "id": "243ad8ce-09ab-4ca6-b98e-bbe3dcb3a1b9",
   "metadata": {},
   "outputs": [],
   "source": [
    "X_train, X_test,y_train,y_test = train_test_split(X_scaled,y,random_state = 0)"
   ]
  },
  {
   "cell_type": "markdown",
   "id": "2b2f6cae-a091-411e-bc98-ba63e02e68c4",
   "metadata": {},
   "source": [
    "# Now it's time to create the models\n",
    "\n",
    "First, notation and equations that we are going to use in the code\n",
    "\n",
    "\n",
    "\n",
    "**Notation:**\n",
    "\n",
    "$\\alpha = \\text{Learning rate}$\n",
    "\n",
    "\n",
    "$\\nabla_{\\theta} = \\text{Gradient}$\n",
    "\n",
    "$m = \\text{Length of the training set}$\n",
    "\n",
    "$\\theta = \\text{Theta parameters}$\n",
    "\n",
    "\n",
    "-----------------------------"
   ]
  },
  {
   "cell_type": "markdown",
   "id": "672daf7e-17d0-4b4e-891b-4f24a0b7be9c",
   "metadata": {},
   "source": [
    "**Equations:**\n",
    "\n",
    "\n",
    "**Sigmoid function**\n",
    "\n",
    "$\\sigma (p) =  \\frac{\\mathrm{1} }{\\mathrm{1} + e^{-p}}  $ \n",
    "\n",
    "**Model prediction** \n",
    "\n",
    "$p = \\sigma(\\theta \\cdot X)$\n",
    "\n",
    "\n",
    "\n",
    "\n",
    "$y =\n",
    "\\begin{cases}\n",
    "  0 =\\text {if  p} \\lt 0.5\\\\\n",
    "  1 =\\text {if  p} \\geq 0.5\n",
    "\\end{cases}\n",
    "$\n",
    "\n",
    "\n",
    "\n",
    "**Cost Function**\n",
    "\n",
    "$\\text {Binary cross entropy loss} = -\\frac{1}{m} \\sum_{i=1}^m[y log(p)+(1-y)log(1-p)]$\n",
    "\n",
    "**Gradient**\n",
    "\n",
    "$\\nabla_{\\theta} \\to \\frac{\\partial}{\\partial \\theta} = \\frac{1}{m}\\sum_{i=1}^m ({p - y})x$\n",
    "\n",
    "**Vectorized Gradient**\n",
    "\n",
    "$\\nabla_{\\theta}$  $ = \\frac{1}{m} \\cdot X^T (p- y)$\n",
    "\n",
    "**Update theta**\n",
    "\n",
    "$\\theta = \\theta - \\alpha \\cdot \\nabla_{\\theta}$\n"
   ]
  },
  {
   "cell_type": "markdown",
   "id": "9524346e-2f44-40a0-86c5-52a2700243ca",
   "metadata": {},
   "source": [
    "# Custom Model"
   ]
  },
  {
   "cell_type": "code",
   "execution_count": 8,
   "id": "56b92a64-4baa-4c93-87a7-74760ec8ad31",
   "metadata": {},
   "outputs": [],
   "source": [
    "\"\"\"\n",
    "    Logistic regression class will take two initial arguments:\n",
    "        * Iterations\n",
    "        * learning_rate\n",
    "\n",
    "\n",
    "        * The fit method will train the model\n",
    "        * The predict method will compute the parameters in the test data\n",
    "\"\"\"\n",
    "\n",
    "\n",
    "class logistic_regression:\n",
    "    def __init__(self,iterations,learning_rate):\n",
    "        self.iterations = iterations\n",
    "        self.learning_rate = learning_rate\n",
    "    \n",
    "    #Sigmoid function\n",
    "    def sigmoid(self,x):\n",
    "        z = 1/(1 + np.exp(-x))\n",
    "        return z\n",
    "\n",
    "    def fit(self,X,y):\n",
    "\n",
    "        m,n = X.shape\n",
    "        theta = np.random.randn(n) # Random Initialization of theta\n",
    "\n",
    "        #add bias terms to X and theta\n",
    "        X_with_bias = np.c_[np.ones(m),X] \n",
    "        theta_with_bias = np.insert(theta,0,0)\n",
    "        \n",
    "        cost = []\n",
    "        for i in range(self.iterations):\n",
    "            h = np.dot(X_with_bias,theta_with_bias)\n",
    "            z = self.sigmoid(h)    \n",
    "            J = (-1/m)*np.sum(y*np.log(z)+(1-y)*np.log(1-z))\n",
    "\n",
    "            error = z - y\n",
    "            grad = (1/m)*np.dot(X_with_bias.T,error)\n",
    "            theta_with_bias =  theta_with_bias - grad*self.learning_rate\n",
    "            cost.append(J)\n",
    "            \n",
    "        plt.plot(cost)\n",
    "        plt.xlabel('Iterations')\n",
    "        plt.ylabel('Binary cross entropy loss')\n",
    "        plt.show()\n",
    "        return theta_with_bias\n",
    "    \n",
    "    def predict(self,X_test,theta):\n",
    "        m_test = X_test.shape[0]\n",
    "\n",
    "        #Adding X0 = 1 to test set\n",
    "        X_test_bias = np.c_[np.ones(m_test),X_test]\n",
    "\n",
    "        #Calculate the prediction\n",
    "        pred = np.dot(X_test_bias,theta)\n",
    "    \n",
    "        return (pred >= 0.5 )*1"
   ]
  },
  {
   "cell_type": "code",
   "execution_count": null,
   "id": "d565c5c0-2b66-4e58-a8de-7befe8eb122e",
   "metadata": {},
   "outputs": [],
   "source": []
  },
  {
   "cell_type": "code",
   "execution_count": 9,
   "id": "b60c9cf5-5cb1-48be-b346-d329eabc33bc",
   "metadata": {},
   "outputs": [],
   "source": [
    "##Function for training data \n",
    "custom_model = logistic_regression(iterations = 2500,learning_rate = 0.05)"
   ]
  },
  {
   "cell_type": "code",
   "execution_count": 10,
   "id": "35fa1543-53bf-40ee-bdc0-cd74b29d5199",
   "metadata": {},
   "outputs": [
    {
     "data": {
      "image/png": "[encoded data removed]",
      "text/plain": [
       "<Figure size 432x288 with 1 Axes>"
      ]
     },
     "metadata": {
      "needs_background": "light"
     },
     "output_type": "display_data"
    }
   ],
   "source": [
    "theta = custom_model.fit(X_train,y_train)"
   ]
  },
  {
   "cell_type": "markdown",
   "id": "2b2de712-bb7f-4277-8d22-55f7e2413bb6",
   "metadata": {},
   "source": [
    "Looks fine the convergence"
   ]
  },
  {
   "cell_type": "markdown",
   "id": "c24a09d4-13ee-402b-92a5-49ade7af0ab6",
   "metadata": {},
   "source": [
    "# Scikit-learn Model"
   ]
  },
  {
   "cell_type": "code",
   "execution_count": 11,
   "id": "affbdd3b-3e09-4ef1-96cb-1d4820a08acc",
   "metadata": {},
   "outputs": [],
   "source": [
    "from sklearn.linear_model import LogisticRegression"
   ]
  },
  {
   "cell_type": "code",
   "execution_count": 12,
   "id": "3bbcda56-1733-42dd-b267-3d063f0256e6",
   "metadata": {},
   "outputs": [
    {
     "data": {
      "text/plain": [
       "LogisticRegression()"
      ]
     },
     "execution_count": 12,
     "metadata": {},
     "output_type": "execute_result"
    }
   ],
   "source": [
    "scikit_model = LogisticRegression()\n",
    "scikit_model.fit(X_train,y_train)"
   ]
  },
  {
   "cell_type": "markdown",
   "id": "71f88299-241d-4692-88d5-30823a9861b8",
   "metadata": {},
   "source": [
    "## Evaluate and compare performance. \n",
    "\n",
    "We will use accuracy as metric\n",
    "\n",
    "Logistic regression in scikit-learn will accept regularization by default (C = 1) Our model does not have regularization(yet). So keep that in mind"
   ]
  },
  {
   "cell_type": "code",
   "execution_count": 13,
   "id": "23ebcf30-fca5-452b-989a-e93172f96109",
   "metadata": {},
   "outputs": [],
   "source": [
    "from sklearn.metrics import accuracy_score"
   ]
  },
  {
   "cell_type": "code",
   "execution_count": 17,
   "id": "2a9c6d86-8431-4a21-8fad-6d7dc8d1a776",
   "metadata": {},
   "outputs": [
    {
     "name": "stdout",
     "output_type": "stream",
     "text": [
      "Accuracy in test set from scikit-learn model: 0.8116591928251121\n",
      "Accuracy in test from our custom model: 0.8161434977578476\n"
     ]
    }
   ],
   "source": [
    "#Compute prediction in each model\n",
    "pred_sklearn = scikit_model.predict(X_test)\n",
    "pred_custom = custom_model.predict(X_test,theta)\n",
    "\n",
    "#Compute the error from each model\n",
    "accuracy_sklearn = accuracy_score(y_test,pred_sklearn)\n",
    "accuracy_custom = accuracy_score(y_test,pred_custom)\n",
    "\n",
    "print('Accuracy in test set from scikit-learn model:',accuracy_sklearn)\n",
    "print('Accuracy in test from our custom model:',accuracy_custom)"
   ]
  },
  {
   "cell_type": "markdown",
   "id": "d969a699-5cf1-4a5e-af7b-3d4cf2cdb5da",
   "metadata": {},
   "source": [
    "The accuracy is very similar!\n",
    "\n",
    "We accomplish a good model on test set. \n",
    "\n",
    "We will evaluate the models, but in the real test data. Which is basically the one that kaggle ask us to predict in the competition. We are going to make predictions using both models and upload both results to see which model wins\n",
    "\n",
    "\n",
    "\n",
    "The data is already prepared as the training set"
   ]
  },
  {
   "cell_type": "code",
   "execution_count": 51,
   "id": "f4668714-5800-484a-9974-fc7e9f21811a",
   "metadata": {},
   "outputs": [
    {
     "data": {
      "text/html": [
       "<div>\n",
       "<style scoped>\n",
       "    .dataframe tbody tr th:only-of-type {\n",
       "        vertical-align: middle;\n",
       "    }\n",
       "\n",
       "    .dataframe tbody tr th {\n",
       "        vertical-align: top;\n",
       "    }\n",
       "\n",
       "    .dataframe thead th {\n",
       "        text-align: right;\n",
       "    }\n",
       "</style>\n",
       "<table border=\"1\" class=\"dataframe\">\n",
       "  <thead>\n",
       "    <tr style=\"text-align: right;\">\n",
       "      <th></th>\n",
       "      <th>0</th>\n",
       "      <th>1</th>\n",
       "      <th>2</th>\n",
       "      <th>3</th>\n",
       "      <th>4</th>\n",
       "      <th>5</th>\n",
       "      <th>6</th>\n",
       "      <th>11</th>\n",
       "      <th>12</th>\n",
       "      <th>13</th>\n",
       "      <th>...</th>\n",
       "      <th>20</th>\n",
       "      <th>21</th>\n",
       "      <th>22</th>\n",
       "      <th>23</th>\n",
       "      <th>24</th>\n",
       "      <th>25</th>\n",
       "      <th>26</th>\n",
       "      <th>27</th>\n",
       "      <th>28</th>\n",
       "      <th>29</th>\n",
       "    </tr>\n",
       "  </thead>\n",
       "  <tbody>\n",
       "    <tr>\n",
       "      <th>0</th>\n",
       "      <td>3</td>\n",
       "      <td>0</td>\n",
       "      <td>7.8292</td>\n",
       "      <td>1</td>\n",
       "      <td>0</td>\n",
       "      <td>7.829200</td>\n",
       "      <td>34.5</td>\n",
       "      <td>0</td>\n",
       "      <td>1</td>\n",
       "      <td>0</td>\n",
       "      <td>...</td>\n",
       "      <td>0</td>\n",
       "      <td>0</td>\n",
       "      <td>0</td>\n",
       "      <td>0</td>\n",
       "      <td>0</td>\n",
       "      <td>0</td>\n",
       "      <td>0</td>\n",
       "      <td>1</td>\n",
       "      <td>0</td>\n",
       "      <td>0</td>\n",
       "    </tr>\n",
       "    <tr>\n",
       "      <th>1</th>\n",
       "      <td>3</td>\n",
       "      <td>0</td>\n",
       "      <td>7.0000</td>\n",
       "      <td>2</td>\n",
       "      <td>0</td>\n",
       "      <td>3.500000</td>\n",
       "      <td>47.0</td>\n",
       "      <td>1</td>\n",
       "      <td>0</td>\n",
       "      <td>0</td>\n",
       "      <td>...</td>\n",
       "      <td>0</td>\n",
       "      <td>0</td>\n",
       "      <td>0</td>\n",
       "      <td>0</td>\n",
       "      <td>0</td>\n",
       "      <td>0</td>\n",
       "      <td>0</td>\n",
       "      <td>0</td>\n",
       "      <td>1</td>\n",
       "      <td>1</td>\n",
       "    </tr>\n",
       "    <tr>\n",
       "      <th>2</th>\n",
       "      <td>2</td>\n",
       "      <td>0</td>\n",
       "      <td>9.6875</td>\n",
       "      <td>1</td>\n",
       "      <td>0</td>\n",
       "      <td>9.687500</td>\n",
       "      <td>62.0</td>\n",
       "      <td>0</td>\n",
       "      <td>1</td>\n",
       "      <td>0</td>\n",
       "      <td>...</td>\n",
       "      <td>0</td>\n",
       "      <td>0</td>\n",
       "      <td>0</td>\n",
       "      <td>0</td>\n",
       "      <td>0</td>\n",
       "      <td>0</td>\n",
       "      <td>0</td>\n",
       "      <td>1</td>\n",
       "      <td>0</td>\n",
       "      <td>0</td>\n",
       "    </tr>\n",
       "    <tr>\n",
       "      <th>3</th>\n",
       "      <td>3</td>\n",
       "      <td>0</td>\n",
       "      <td>8.6625</td>\n",
       "      <td>1</td>\n",
       "      <td>0</td>\n",
       "      <td>8.662500</td>\n",
       "      <td>27.0</td>\n",
       "      <td>0</td>\n",
       "      <td>1</td>\n",
       "      <td>0</td>\n",
       "      <td>...</td>\n",
       "      <td>0</td>\n",
       "      <td>0</td>\n",
       "      <td>0</td>\n",
       "      <td>0</td>\n",
       "      <td>0</td>\n",
       "      <td>0</td>\n",
       "      <td>0</td>\n",
       "      <td>1</td>\n",
       "      <td>0</td>\n",
       "      <td>0</td>\n",
       "    </tr>\n",
       "    <tr>\n",
       "      <th>4</th>\n",
       "      <td>3</td>\n",
       "      <td>1</td>\n",
       "      <td>12.2875</td>\n",
       "      <td>3</td>\n",
       "      <td>0</td>\n",
       "      <td>4.095833</td>\n",
       "      <td>22.0</td>\n",
       "      <td>1</td>\n",
       "      <td>0</td>\n",
       "      <td>0</td>\n",
       "      <td>...</td>\n",
       "      <td>0</td>\n",
       "      <td>0</td>\n",
       "      <td>0</td>\n",
       "      <td>0</td>\n",
       "      <td>0</td>\n",
       "      <td>0</td>\n",
       "      <td>0</td>\n",
       "      <td>0</td>\n",
       "      <td>1</td>\n",
       "      <td>1</td>\n",
       "    </tr>\n",
       "    <tr>\n",
       "      <th>...</th>\n",
       "      <td>...</td>\n",
       "      <td>...</td>\n",
       "      <td>...</td>\n",
       "      <td>...</td>\n",
       "      <td>...</td>\n",
       "      <td>...</td>\n",
       "      <td>...</td>\n",
       "      <td>...</td>\n",
       "      <td>...</td>\n",
       "      <td>...</td>\n",
       "      <td>...</td>\n",
       "      <td>...</td>\n",
       "      <td>...</td>\n",
       "      <td>...</td>\n",
       "      <td>...</td>\n",
       "      <td>...</td>\n",
       "      <td>...</td>\n",
       "      <td>...</td>\n",
       "      <td>...</td>\n",
       "      <td>...</td>\n",
       "      <td>...</td>\n",
       "    </tr>\n",
       "    <tr>\n",
       "      <th>413</th>\n",
       "      <td>3</td>\n",
       "      <td>0</td>\n",
       "      <td>8.0500</td>\n",
       "      <td>1</td>\n",
       "      <td>0</td>\n",
       "      <td>8.050000</td>\n",
       "      <td>29.0</td>\n",
       "      <td>0</td>\n",
       "      <td>1</td>\n",
       "      <td>0</td>\n",
       "      <td>...</td>\n",
       "      <td>0</td>\n",
       "      <td>0</td>\n",
       "      <td>0</td>\n",
       "      <td>0</td>\n",
       "      <td>0</td>\n",
       "      <td>0</td>\n",
       "      <td>0</td>\n",
       "      <td>1</td>\n",
       "      <td>0</td>\n",
       "      <td>0</td>\n",
       "    </tr>\n",
       "    <tr>\n",
       "      <th>414</th>\n",
       "      <td>1</td>\n",
       "      <td>0</td>\n",
       "      <td>108.9000</td>\n",
       "      <td>1</td>\n",
       "      <td>1</td>\n",
       "      <td>108.900000</td>\n",
       "      <td>39.0</td>\n",
       "      <td>1</td>\n",
       "      <td>0</td>\n",
       "      <td>1</td>\n",
       "      <td>...</td>\n",
       "      <td>1</td>\n",
       "      <td>0</td>\n",
       "      <td>0</td>\n",
       "      <td>0</td>\n",
       "      <td>0</td>\n",
       "      <td>0</td>\n",
       "      <td>0</td>\n",
       "      <td>0</td>\n",
       "      <td>1</td>\n",
       "      <td>0</td>\n",
       "    </tr>\n",
       "    <tr>\n",
       "      <th>415</th>\n",
       "      <td>3</td>\n",
       "      <td>0</td>\n",
       "      <td>7.2500</td>\n",
       "      <td>1</td>\n",
       "      <td>0</td>\n",
       "      <td>7.250000</td>\n",
       "      <td>38.5</td>\n",
       "      <td>0</td>\n",
       "      <td>1</td>\n",
       "      <td>0</td>\n",
       "      <td>...</td>\n",
       "      <td>0</td>\n",
       "      <td>0</td>\n",
       "      <td>0</td>\n",
       "      <td>0</td>\n",
       "      <td>0</td>\n",
       "      <td>0</td>\n",
       "      <td>0</td>\n",
       "      <td>1</td>\n",
       "      <td>0</td>\n",
       "      <td>0</td>\n",
       "    </tr>\n",
       "    <tr>\n",
       "      <th>416</th>\n",
       "      <td>3</td>\n",
       "      <td>0</td>\n",
       "      <td>8.0500</td>\n",
       "      <td>1</td>\n",
       "      <td>0</td>\n",
       "      <td>8.050000</td>\n",
       "      <td>29.0</td>\n",
       "      <td>0</td>\n",
       "      <td>1</td>\n",
       "      <td>0</td>\n",
       "      <td>...</td>\n",
       "      <td>0</td>\n",
       "      <td>0</td>\n",
       "      <td>0</td>\n",
       "      <td>0</td>\n",
       "      <td>0</td>\n",
       "      <td>0</td>\n",
       "      <td>0</td>\n",
       "      <td>1</td>\n",
       "      <td>0</td>\n",
       "      <td>0</td>\n",
       "    </tr>\n",
       "    <tr>\n",
       "      <th>417</th>\n",
       "      <td>3</td>\n",
       "      <td>1</td>\n",
       "      <td>22.3583</td>\n",
       "      <td>3</td>\n",
       "      <td>0</td>\n",
       "      <td>7.452767</td>\n",
       "      <td>29.0</td>\n",
       "      <td>0</td>\n",
       "      <td>1</td>\n",
       "      <td>1</td>\n",
       "      <td>...</td>\n",
       "      <td>0</td>\n",
       "      <td>0</td>\n",
       "      <td>0</td>\n",
       "      <td>0</td>\n",
       "      <td>0</td>\n",
       "      <td>0</td>\n",
       "      <td>0</td>\n",
       "      <td>1</td>\n",
       "      <td>0</td>\n",
       "      <td>1</td>\n",
       "    </tr>\n",
       "  </tbody>\n",
       "</table>\n",
       "<p>418 rows × 26 columns</p>\n",
       "</div>"
      ],
      "text/plain": [
       "     0  1         2  3  4           5     6  11  12  13  ...  20  21  22  23  \\\n",
       "0    3  0    7.8292  1  0    7.829200  34.5   0   1   0  ...   0   0   0   0   \n",
       "1    3  0    7.0000  2  0    3.500000  47.0   1   0   0  ...   0   0   0   0   \n",
       "2    2  0    9.6875  1  0    9.687500  62.0   0   1   0  ...   0   0   0   0   \n",
       "3    3  0    8.6625  1  0    8.662500  27.0   0   1   0  ...   0   0   0   0   \n",
       "4    3  1   12.2875  3  0    4.095833  22.0   1   0   0  ...   0   0   0   0   \n",
       "..  .. ..       ... .. ..         ...   ...  ..  ..  ..  ...  ..  ..  ..  ..   \n",
       "413  3  0    8.0500  1  0    8.050000  29.0   0   1   0  ...   0   0   0   0   \n",
       "414  1  0  108.9000  1  1  108.900000  39.0   1   0   1  ...   1   0   0   0   \n",
       "415  3  0    7.2500  1  0    7.250000  38.5   0   1   0  ...   0   0   0   0   \n",
       "416  3  0    8.0500  1  0    8.050000  29.0   0   1   0  ...   0   0   0   0   \n",
       "417  3  1   22.3583  3  0    7.452767  29.0   0   1   1  ...   0   0   0   0   \n",
       "\n",
       "     24  25  26  27  28  29  \n",
       "0     0   0   0   1   0   0  \n",
       "1     0   0   0   0   1   1  \n",
       "2     0   0   0   1   0   0  \n",
       "3     0   0   0   1   0   0  \n",
       "4     0   0   0   0   1   1  \n",
       "..   ..  ..  ..  ..  ..  ..  \n",
       "413   0   0   0   1   0   0  \n",
       "414   0   0   0   0   1   0  \n",
       "415   0   0   0   1   0   0  \n",
       "416   0   0   0   1   0   0  \n",
       "417   0   0   0   1   0   1  \n",
       "\n",
       "[418 rows x 26 columns]"
      ]
     },
     "execution_count": 51,
     "metadata": {},
     "output_type": "execute_result"
    }
   ],
   "source": [
    "test_data = pd.read_csv('test_final.csv')\n",
    "passenger_id = test_data['PassengerId']\n",
    "test_data.drop('PassengerId',axis = 1,inplace= True)"
   ]
  },
  {
   "cell_type": "code",
   "execution_count": 65,
   "id": "dd06779d-86b2-406b-b6e3-cba96c2057c8",
   "metadata": {},
   "outputs": [],
   "source": [
    "test_arr = np.array(test_data)"
   ]
  },
  {
   "cell_type": "code",
   "execution_count": 66,
   "id": "dd8db1d2-06c6-4e98-8e3d-5fb685132645",
   "metadata": {},
   "outputs": [],
   "source": [
    "final_pred_custom = custom_model.predict(test_arr,theta)\n",
    "final_pred_scikit = scikit_model.predict(test_data)"
   ]
  },
  {
   "cell_type": "markdown",
   "id": "24cac683-b7f3-45ee-9775-464b1a03794b",
   "metadata": {},
   "source": [
    "We have the predictions in an array. We need to do some preprocess before uploading data"
   ]
  },
  {
   "cell_type": "code",
   "execution_count": 109,
   "id": "80d6e944-e2d3-4759-b15e-40ea63e039ad",
   "metadata": {},
   "outputs": [],
   "source": [
    "def upload_data(pred,name):\n",
    "    final_pred = pd.Series(pred)\n",
    "    df = pd.DataFrame(data = passenger_id)\n",
    "    df['Survived'] = final_pred_custom\n",
    "    return df.to_csv(name,index=False)\n"
   ]
  },
  {
   "cell_type": "code",
   "execution_count": 110,
   "id": "2c194a74-a1e1-4b66-89b9-9c199d9ed7ac",
   "metadata": {},
   "outputs": [],
   "source": [
    "upload_data(final_pred_scikit,'scikit_pred.csv')\n",
    "upload_data(final_pred_scikit,'custom_pred.csv')"
   ]
  },
  {
   "attachments": {
    "6fd025c2-4379-4290-8e6e-134969679657.png": {
     "image/png": "[encoded data removed]"
    }
   },
   "cell_type": "markdown",
   "id": "c97a08d6-d0cd-491d-a5bb-a8e771280c96",
   "metadata": {},
   "source": [
    "![image.png](attachment:6fd025c2-4379-4290-8e6e-134969679657.png)"
   ]
  },
  {
   "cell_type": "markdown",
   "id": "67e3fda3-80bf-429f-b007-7c00fd78d48a",
   "metadata": {},
   "source": [
    "They got the same score! They work similar! \n",
    "\n",
    "Even though this is not a good score. But for more on titanic competition you can check my other notebook. I scored 0.77272 using random forest"
   ]
  },
  {
   "cell_type": "code",
   "execution_count": null,
   "id": "398170b3-8c30-4d82-9efd-60f46a4980da",
   "metadata": {},
   "outputs": [],
   "source": []
  },
  {
   "cell_type": "code",
   "execution_count": null,
   "id": "7c71619a-91d5-4ffd-9eee-a21c33e4da3d",
   "metadata": {},
   "outputs": [],
   "source": []
  },
  {
   "cell_type": "code",
   "execution_count": null,
   "id": "47d0d8ce-2f5e-4d0f-8fc8-5a11d7198fb3",
   "metadata": {},
   "outputs": [],
   "source": []
  },
  {
   "cell_type": "code",
   "execution_count": null,
   "id": "5fd5cce5-1fc0-4c94-bfdf-e6793872cfcb",
   "metadata": {},
   "outputs": [],
   "source": []
  }
 ],
 "metadata": {
  "kernelspec": {
   "display_name": "Python 3",
   "language": "python",
   "name": "python3"
  },
  "language_info": {
   "codemirror_mode": {
    "name": "ipython",
    "version": 3
   },
   "file_extension": ".py",
   "mimetype": "text/x-python",
   "name": "python",
   "nbconvert_exporter": "python",
   "pygments_lexer": "ipython3",
   "version": "3.8.5"
  }
 },
 "nbformat": 4,
 "nbformat_minor": 5
}
