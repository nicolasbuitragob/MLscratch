{
 "cells": [
  {
   "cell_type": "markdown",
   "id": "5140b903-0d84-4933-9887-593f9477e3ea",
   "metadata": {},
   "source": [
    "# Logistic Regression from scratch\n",
    "\n",
    "Our second model is logistic regression. In this first example we will perform a binary classification\n",
    "\n",
    "We will train the algorithm in the [titanic](https://www.kaggle.com/c/titanic) dataset from kaggle.\n",
    "\n",
    "I have already done an EDA and feature engineering so we have a ready to use dataset. More information here"
   ]
  },
  {
   "cell_type": "code",
   "execution_count": 1,
   "id": "33082c4d-7479-4e43-93ba-fe2294b05eee",
   "metadata": {},
   "outputs": [],
   "source": [
    "import numpy as np\n",
    "import random\n",
    "import matplotlib.pyplot as plt\n",
    "import pandas as pd"
   ]
  },
  {
   "cell_type": "code",
   "execution_count": 2,
   "id": "97011d02-641c-4021-9059-687530ebf2a3",
   "metadata": {},
   "outputs": [],
   "source": [
    "#Load data\n",
    "df = pd.read_csv('train_file.csv')"
   ]
  },
  {
   "cell_type": "code",
   "execution_count": 3,
   "id": "87e41e2a-c125-42f5-b76a-dad3dd947dd0",
   "metadata": {},
   "outputs": [],
   "source": [
    "y = df['Survived']\n",
    "df.drop('Survived',inplace = True,axis = 1)"
   ]
  },
  {
   "cell_type": "code",
   "execution_count": 4,
   "id": "6bce553f-2e54-45fc-8810-7e37c23ff677",
   "metadata": {},
   "outputs": [],
   "source": [
    "X = np.array(df)\n",
    "y = np.array(y)"
   ]
  },
  {
   "cell_type": "code",
   "execution_count": 5,
   "id": "9db88784-7c5f-435c-9caa-f62dc618c366",
   "metadata": {},
   "outputs": [],
   "source": [
    "from sklearn.preprocessing import StandardScaler\n",
    "scaler = StandardScaler()\n",
    "X_scaled = scaler.fit_transform(X)"
   ]
  },
  {
   "cell_type": "code",
   "execution_count": 6,
   "id": "11e7f670-ee8f-4d2d-8299-72d9e39ac374",
   "metadata": {},
   "outputs": [],
   "source": [
    "from sklearn.model_selection import train_test_split"
   ]
  },
  {
   "cell_type": "code",
   "execution_count": 7,
   "id": "243ad8ce-09ab-4ca6-b98e-bbe3dcb3a1b9",
   "metadata": {},
   "outputs": [],
   "source": [
    "X_train, X_test,y_train,y_test = train_test_split(X_scaled,y,random_state = 0)"
   ]
  },
  {
   "cell_type": "markdown",
   "id": "2b2f6cae-a091-411e-bc98-ba63e02e68c4",
   "metadata": {},
   "source": [
    "### Now it's time to create the model\n",
    "\n",
    "First, notation and equations that we are going to use in the code\n",
    "\n",
    "\n",
    "\n",
    "**Notation:**\n",
    "\n",
    "$\\alpha = \\text{Learning rate}$\n",
    "\n",
    "\n",
    "$\\nabla_{\\theta} = \\text{Gradient}$\n",
    "\n",
    "$m = \\text{Length of the training set}$\n",
    "\n",
    "$\\theta = \\text{Theta parameters}$\n",
    "\n",
    "\n",
    "-----------------------------"
   ]
  },
  {
   "cell_type": "markdown",
   "id": "672daf7e-17d0-4b4e-891b-4f24a0b7be9c",
   "metadata": {},
   "source": [
    "**Equations:**\n",
    "\n",
    "\n",
    "**Sigmoid function**\n",
    "\n",
    "$\\sigma (p) =  \\frac{\\mathrm{1} }{\\mathrm{1} + e^{-p}}  $ \n",
    "\n",
    "**Model prediction** \n",
    "\n",
    "$p = \\sigma(\\theta \\cdot X)$\n",
    "\n",
    "\n",
    "\n",
    "\n",
    "$y =\n",
    "\\begin{cases}\n",
    "  0 =\\text {if  p} \\lt 0.5\\\\\n",
    "  1 =\\text {if  p} \\geq 0.5\n",
    "\\end{cases}\n",
    "$\n",
    "\n",
    "\n",
    "\n",
    "**Cost Function**\n",
    "\n",
    "$\\text {Binary cross entropy loss} = -\\frac{1}{m} \\sum_{i=1}^m[y log(p)+(1-y)log(1-p)]$\n",
    "\n",
    "**Gradient**\n",
    "\n",
    "$\\nabla_{\\theta} \\to \\frac{\\partial}{\\partial \\theta} = \\frac{1}{m}\\sum_{i=1}^m ({p - y})x$\n",
    "\n",
    "**Vectorized Gradient**\n",
    "\n",
    "$\\nabla_{\\theta}$  $ = \\frac{1}{m} \\cdot X^T (p- y)$\n",
    "\n",
    "**Update theta**\n",
    "\n",
    "$\\theta = \\theta - \\alpha \\cdot \\nabla_{\\theta}$\n"
   ]
  },
  {
   "cell_type": "code",
   "execution_count": 8,
   "id": "d565c5c0-2b66-4e58-a8de-7befe8eb122e",
   "metadata": {},
   "outputs": [],
   "source": [
    "#Define Sigmoid function\n",
    "def sigmoid(x):\n",
    "    z = 1/(1 + np.exp(-x))\n",
    "    return z"
   ]
  },
  {
   "cell_type": "code",
   "execution_count": 14,
   "id": "b60c9cf5-5cb1-48be-b346-d329eabc33bc",
   "metadata": {},
   "outputs": [],
   "source": [
    "##Function for training data\n",
    "def fit(X,y,learning_rate,iterations):\n",
    "    \n",
    "    m,n = X.shape\n",
    "    theta_init = np.random.randn(n) # Random Initialization of theta\n",
    "\n",
    "    #add bias terms to X and theta\n",
    "    X_with_bias = np.c_[np.ones(m),X] \n",
    "    theta_with_bias = np.insert(theta_init,0,0)\n",
    "    \n",
    "    cost = []\n",
    "    for i in range(iterations):\n",
    "        h = np.dot(X_with_bias,theta_with_bias)\n",
    "        z = sigmoid(h)    \n",
    "        J = (-1/m)*np.sum(y*np.log(z)+(1-y)*np.log(1-z))\n",
    "        cost.append(J)\n",
    "        error = z - y\n",
    "        grad = (1/m)*np.dot(X_with_bias.T,error)\n",
    "        theta_with_bias =  theta_with_bias - grad*learning_rate\n",
    "    plt.plot(cost)\n",
    "    plt.xlabel('Iterations')\n",
    "    plt.ylabel('Binary cross entropy loss')\n",
    "    plt.show()\n",
    "    return theta_with_bias"
   ]
  },
  {
   "cell_type": "code",
   "execution_count": 25,
   "id": "35fa1543-53bf-40ee-bdc0-cd74b29d5199",
   "metadata": {},
   "outputs": [
    {
     "name": "stderr",
     "output_type": "stream",
     "text": [
      "<ipython-input-14-63b7439127e3>:15: RuntimeWarning: divide by zero encountered in log\n",
      "  J = (-1/m)*np.sum(y*np.log(z)+(1-y)*np.log(1-z))\n"
     ]
    },
    {
     "data": {
      "image/png": "[encoded data removed]",
      "text/plain": [
       "<Figure size 432x288 with 1 Axes>"
      ]
     },
     "metadata": {
      "needs_background": "light"
     },
     "output_type": "display_data"
    },
    {
     "data": {
      "text/plain": [
       "array([-0.57959117, -0.68932645,  0.01490285,  0.31398131, -0.31094936,\n",
       "        0.92485156, -0.17938483, -0.66033661,  1.26127285,  0.28521387,\n",
       "       -0.67768283, -0.48733032, -1.00250643,  0.45951244,  1.32430596,\n",
       "        0.16846186,  0.27275377,  0.16866205,  0.33443568,  0.50206662,\n",
       "        0.27801412, -0.02314531, -0.08085531, -0.02848592, -0.19645475,\n",
       "        0.33448903, -0.21376635])"
      ]
     },
     "execution_count": 25,
     "metadata": {},
     "output_type": "execute_result"
    }
   ],
   "source": [
    "fit(X_train,y_train,0.05,2500)"
   ]
  },
  {
   "cell_type": "code",
   "execution_count": null,
   "id": "fa6d986d-f324-4e90-b76c-cab3b8baf517",
   "metadata": {},
   "outputs": [],
   "source": []
  },
  {
   "cell_type": "code",
   "execution_count": null,
   "id": "db077c3f-392b-40c1-af97-92dde93d41f6",
   "metadata": {},
   "outputs": [],
   "source": []
  },
  {
   "cell_type": "code",
   "execution_count": null,
   "id": "3bbcda56-1733-42dd-b267-3d063f0256e6",
   "metadata": {},
   "outputs": [],
   "source": []
  },
  {
   "cell_type": "code",
   "execution_count": null,
   "id": "78a9dd79-caad-4295-87b4-249b1dfa65bd",
   "metadata": {},
   "outputs": [],
   "source": []
  },
  {
   "cell_type": "code",
   "execution_count": null,
   "id": "cc53d28e-5295-422d-90d1-8c65de77ca2e",
   "metadata": {},
   "outputs": [],
   "source": []
  },
  {
   "cell_type": "code",
   "execution_count": null,
   "id": "23ebcf30-fca5-452b-989a-e93172f96109",
   "metadata": {},
   "outputs": [],
   "source": []
  },
  {
   "cell_type": "code",
   "execution_count": null,
   "id": "2a9c6d86-8431-4a21-8fad-6d7dc8d1a776",
   "metadata": {},
   "outputs": [],
   "source": [
    "\n"
   ]
  },
  {
   "cell_type": "code",
   "execution_count": null,
   "id": "a6277898-e8a6-44c2-b46b-54131ac78edc",
   "metadata": {},
   "outputs": [],
   "source": [
    "\n"
   ]
  },
  {
   "cell_type": "code",
   "execution_count": null,
   "id": "f4668714-5800-484a-9974-fc7e9f21811a",
   "metadata": {},
   "outputs": [],
   "source": []
  },
  {
   "cell_type": "code",
   "execution_count": null,
   "id": "dd06779d-86b2-406b-b6e3-cba96c2057c8",
   "metadata": {},
   "outputs": [],
   "source": [
    "#Training the data\n",
    "pred_train, theta,cost = log_reg(theta_with_bias,X_train_scaled,y_train,0.001)"
   ]
  },
  {
   "cell_type": "code",
   "execution_count": null,
   "id": "dd8db1d2-06c6-4e98-8e3d-5fb685132645",
   "metadata": {},
   "outputs": [],
   "source": [
    "#Plotting Cost FUnction to see if it is working properly\n",
    "plt.plot(cost)\n",
    "plt.show()"
   ]
  },
  {
   "cell_type": "code",
   "execution_count": null,
   "id": "80d6e944-e2d3-4759-b15e-40ea63e039ad",
   "metadata": {},
   "outputs": [],
   "source": [
    "from sklearn.metrics import accuracy_score"
   ]
  },
  {
   "cell_type": "code",
   "execution_count": null,
   "id": "2c194a74-a1e1-4b66-89b9-9c199d9ed7ac",
   "metadata": {},
   "outputs": [],
   "source": [
    "test_pred = sigmoid(np.dot(theta,X_test_scaled.T))\n",
    "test_pred = (test_pred>=0.5).astype(int)"
   ]
  },
  {
   "cell_type": "code",
   "execution_count": null,
   "id": "6fcadb04-2974-48f5-8936-49a84171bebc",
   "metadata": {},
   "outputs": [],
   "source": [
    "acc_train = accuracy_score(y_train,pred_train)\n",
    "acc_train"
   ]
  },
  {
   "cell_type": "code",
   "execution_count": null,
   "id": "382ce21c-0ca9-47d7-9739-657f20782dbd",
   "metadata": {},
   "outputs": [],
   "source": [
    "acc_test = accuracy_score(y_test,test_pred)\n",
    "acc_test"
   ]
  },
  {
   "cell_type": "code",
   "execution_count": null,
   "id": "398170b3-8c30-4d82-9efd-60f46a4980da",
   "metadata": {},
   "outputs": [],
   "source": []
  },
  {
   "cell_type": "code",
   "execution_count": null,
   "id": "7c71619a-91d5-4ffd-9eee-a21c33e4da3d",
   "metadata": {},
   "outputs": [],
   "source": []
  },
  {
   "cell_type": "code",
   "execution_count": null,
   "id": "47d0d8ce-2f5e-4d0f-8fc8-5a11d7198fb3",
   "metadata": {},
   "outputs": [],
   "source": []
  },
  {
   "cell_type": "code",
   "execution_count": null,
   "id": "5fd5cce5-1fc0-4c94-bfdf-e6793872cfcb",
   "metadata": {},
   "outputs": [],
   "source": []
  }
 ],
 "metadata": {
  "kernelspec": {
   "display_name": "Python 3",
   "language": "python",
   "name": "python3"
  },
  "language_info": {
   "codemirror_mode": {
    "name": "ipython",
    "version": 3
   },
   "file_extension": ".py",
   "mimetype": "text/x-python",
   "name": "python",
   "nbconvert_exporter": "python",
   "pygments_lexer": "ipython3",
   "version": "3.8.5"
  }
 },
 "nbformat": 4,
 "nbformat_minor": 5
}
