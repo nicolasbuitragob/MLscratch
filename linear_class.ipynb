{
 "cells": [
  {
   "cell_type": "markdown",
   "id": "9dd89031-d291-4420-b3df-05caef72a805",
   "metadata": {
    "tags": []
   },
   "source": [
    "# Class for linear models\n",
    "### Linear Regression\n",
    "### Logistic Regression"
   ]
  },
  {
   "cell_type": "code",
   "execution_count": 1,
   "id": "e7022aa9-5c5b-4cd5-a071-e05b276a185e",
   "metadata": {},
   "outputs": [],
   "source": [
    "import numpy as np\n",
    "import matplotlib.pyplot as plt"
   ]
  },
  {
   "cell_type": "code",
   "execution_count": 2,
   "id": "cbaaf0e5-51f2-499d-96c8-5aae980b6702",
   "metadata": {},
   "outputs": [],
   "source": [
    "class Regression:\n",
    "    def __init__(self):\n",
    "        self._iterations = 2000\n",
    "        self._learning_rate = 0.01\n",
    "        self.theta = None\n",
    "        self.cost = []\n",
    "        \n",
    "    def fit(self,X_train,y_train):\n",
    "        m,n = X_train.shape\n",
    "        self.theta = np.random.randn(n)\n",
    "        X_with_bias = np.c_[np.ones(m),X_train]\n",
    "        self.theta = np.insert(self.theta,0,0)\n",
    "        \n",
    "        for i in range(self._iterations):\n",
    "            h = np.dot(X_with_bias,self.theta)\n",
    "            error = h - y_train            \n",
    "            J = (1/m)*np.sum(error**2)\n",
    "            grad = (2/m)*np.dot(X_with_bias.T,error)\n",
    "            self.theta = self.theta - self._learning_rate*grad\n",
    "            self.cost.append(J)\n",
    "        self.plot()\n",
    "\n",
    "    def plot(self):\n",
    "        plt.plot(self.cost)\n",
    "        plt.xlabel('Iterations')\n",
    "        plt.ylabel('Cost')\n",
    "        plt.show()\n",
    "    \n",
    "            \n",
    "    def predict(self, X_test):        \n",
    "        m_test = X_test.shape[0]\n",
    "        X_test_bias = np.c_[np.ones(m_test),X_test]\n",
    "        pred = np.dot(X_test_bias,self.theta)\n",
    "        return pred"
   ]
  },
  {
   "cell_type": "code",
   "execution_count": 3,
   "id": "191cb248-309d-49f3-9a64-6bd98fb96144",
   "metadata": {},
   "outputs": [],
   "source": [
    "class Classification(Regression):\n",
    "    def __init__(self):\n",
    "        super().__init__()\n",
    "        \n",
    "    #Sigmoid function\n",
    "    def sigmoid(self,x):\n",
    "        z = 1/(1 + np.exp(-x))\n",
    "        return z\n",
    "\n",
    "    def fit(self,X,y):\n",
    "        m,n = X.shape\n",
    "        self.theta = np.random.randn(n) \n",
    "        X_with_bias = np.c_[np.ones(m),X] \n",
    "        self.theta = np.insert(self.theta,0,0)\n",
    "        for i in range(self._iterations):\n",
    "            h = np.dot(X_with_bias,self.theta)\n",
    "            z = self.sigmoid(h)    \n",
    "            J = (-1/m)*np.sum((y*np.log(z))+((1-y)*np.log(1-z)))\n",
    "            error = z - y\n",
    "            grad = (1/m)*np.dot(X_with_bias.T,error)\n",
    "            self.theta =  self.theta - self._learning_rate*grad\n",
    "            self.cost.append(J)\n",
    "        self.plot()\n",
    "\n",
    "    def predict(self, X_test):        \n",
    "        m_test = X_test.shape[0]\n",
    "        X_test_bias = np.c_[np.ones(m_test),X_test]\n",
    "        pred = np.dot(X_test_bias,self.theta)\n",
    "        return (pred >= 0.5 )*1\n"
   ]
  },
  {
   "cell_type": "code",
   "execution_count": 4,
   "id": "ff1b9730-aced-494f-b03f-bba09b756f3f",
   "metadata": {},
   "outputs": [],
   "source": [
    "from sklearn.datasets import make_regression, make_classification\n",
    "from sklearn.model_selection import train_test_split"
   ]
  },
  {
   "cell_type": "code",
   "execution_count": 5,
   "id": "d2f098d2-0d10-4463-afc0-cff955ab6f4a",
   "metadata": {},
   "outputs": [],
   "source": [
    "x, y = make_regression(n_samples = 200,n_features = 1,noise = 50,bias = 100,random_state = 0)"
   ]
  },
  {
   "cell_type": "code",
   "execution_count": 6,
   "id": "105a37d7-a2f4-4f5e-bcd5-44d03bc59cc3",
   "metadata": {},
   "outputs": [
    {
     "data": {
      "image/png": "[encoded data removed]",
      "text/plain": [
       "<Figure size 432x288 with 1 Axes>"
      ]
     },
     "metadata": {
      "needs_background": "light"
     },
     "output_type": "display_data"
    }
   ],
   "source": [
    "plt.scatter(x,y)\n",
    "plt.show()"
   ]
  },
  {
   "cell_type": "code",
   "execution_count": 7,
   "id": "5b41c45b-aedb-4938-93fb-69053027b83e",
   "metadata": {},
   "outputs": [],
   "source": [
    "x_train,x_test,y_train,y_test = train_test_split(x, y, random_state = 0)"
   ]
  },
  {
   "cell_type": "code",
   "execution_count": 8,
   "id": "524c9ecf-dbf5-4fe6-9f49-5232fb1063fa",
   "metadata": {},
   "outputs": [],
   "source": [
    "linear = Regression()"
   ]
  },
  {
   "cell_type": "code",
   "execution_count": 9,
   "id": "ce76afe1-206d-4d3c-84b0-9b9af0305ce1",
   "metadata": {},
   "outputs": [
    {
     "data": {
      "image/png": "[encoded data removed]",
      "text/plain": [
       "<Figure size 432x288 with 1 Axes>"
      ]
     },
     "metadata": {
      "needs_background": "light"
     },
     "output_type": "display_data"
    }
   ],
   "source": [
    "linear.fit(x_train,y_train)"
   ]
  },
  {
   "cell_type": "code",
   "execution_count": 10,
   "id": "c1058635-8877-4fde-8d36-a1053d01bcbf",
   "metadata": {},
   "outputs": [],
   "source": [
    "preds = linear.predict(x_test)"
   ]
  },
  {
   "cell_type": "code",
   "execution_count": 11,
   "id": "c0156f08-0a68-4142-b753-c3c6e20b3aa4",
   "metadata": {},
   "outputs": [
    {
     "data": {
      "image/png": "[encoded data removed]",
      "text/plain": [
       "<Figure size 432x288 with 1 Axes>"
      ]
     },
     "metadata": {
      "needs_background": "light"
     },
     "output_type": "display_data"
    }
   ],
   "source": [
    "plt.scatter(x_test, y_test)\n",
    "plt.plot(x_test, preds, color = 'orange')\n",
    "plt.show()"
   ]
  },
  {
   "cell_type": "code",
   "execution_count": 12,
   "id": "8cdb69c9-4eec-4453-8fa8-66a659fa448b",
   "metadata": {},
   "outputs": [],
   "source": [
    "x, y = make_classification(n_features = 2, n_redundant = 0, n_informative = 1, n_clusters_per_class = 1)"
   ]
  },
  {
   "cell_type": "code",
   "execution_count": 13,
   "id": "6846bad4-5cee-4060-95ac-e6dae458fbf4",
   "metadata": {},
   "outputs": [
    {
     "data": {
      "image/png": "[encoded data removed]",
      "text/plain": [
       "<Figure size 432x288 with 1 Axes>"
      ]
     },
     "metadata": {
      "needs_background": "light"
     },
     "output_type": "display_data"
    }
   ],
   "source": [
    "plt.scatter(x[:,0],x[:,1], c = y)\n",
    "plt.show()"
   ]
  },
  {
   "cell_type": "code",
   "execution_count": 14,
   "id": "1d0c1e0f-d10c-4f24-b277-24d7ac538d25",
   "metadata": {},
   "outputs": [],
   "source": [
    "logistic_regression = Classification()"
   ]
  },
  {
   "cell_type": "code",
   "execution_count": 15,
   "id": "107b9354-8dd5-4395-9be4-d080d907d232",
   "metadata": {},
   "outputs": [],
   "source": [
    "x_train, x_test, y_train, y_test = train_test_split(x,y,random_state = 0)"
   ]
  },
  {
   "cell_type": "code",
   "execution_count": 16,
   "id": "aed6fcc5-74c0-4443-9bfb-fb8b0112ba75",
   "metadata": {},
   "outputs": [
    {
     "data": {
      "image/png": "[encoded data removed]",
      "text/plain": [
       "<Figure size 432x288 with 1 Axes>"
      ]
     },
     "metadata": {
      "needs_background": "light"
     },
     "output_type": "display_data"
    }
   ],
   "source": [
    "logistic_regression.fit(x_train, y_train)\n"
   ]
  },
  {
   "cell_type": "code",
   "execution_count": 17,
   "id": "9fc81bb4-3238-4b04-b4c4-1b285b5793ce",
   "metadata": {},
   "outputs": [],
   "source": [
    "preds = logistic_regression.predict(x_test)"
   ]
  },
  {
   "cell_type": "code",
   "execution_count": 18,
   "id": "6d1fee0c-2daa-484e-9b05-e4a635c39b1a",
   "metadata": {},
   "outputs": [],
   "source": [
    "theta = logistic_regression.theta"
   ]
  },
  {
   "cell_type": "code",
   "execution_count": 19,
   "id": "73c7d4c0-892b-46c0-babd-cfa9c85cb629",
   "metadata": {},
   "outputs": [],
   "source": [
    "min_, max_ = np.min(x[:,0]), np.max(x[:,0])"
   ]
  },
  {
   "cell_type": "code",
   "execution_count": null,
   "id": "906affa8-c77e-4aa0-a1a8-8a3664df6ba7",
   "metadata": {},
   "outputs": [],
   "source": []
  },
  {
   "cell_type": "code",
   "execution_count": 20,
   "id": "db74623b-f0eb-42ef-84da-4b2a43f75999",
   "metadata": {},
   "outputs": [
    {
     "data": {
      "text/plain": [
       "array([ 0.36541842, -0.12389946])"
      ]
     },
     "execution_count": 20,
     "metadata": {},
     "output_type": "execute_result"
    }
   ],
   "source": [
    "boundary = -(np.dot(theta[1]/theta[2],[min_,max_]) - (theta[0] / theta[2]))\n",
    "boundary"
   ]
  },
  {
   "cell_type": "code",
   "execution_count": null,
   "id": "5a595974-cfb8-464b-8826-d71716295de7",
   "metadata": {},
   "outputs": [],
   "source": []
  },
  {
   "cell_type": "code",
   "execution_count": null,
   "id": "fab8514d-5ca4-4053-b8c4-c34561ffdae4",
   "metadata": {},
   "outputs": [],
   "source": []
  },
  {
   "cell_type": "code",
   "execution_count": 21,
   "id": "b4b1a39f-5990-4593-bbcc-cacfe94b5851",
   "metadata": {},
   "outputs": [
    {
     "data": {
      "image/png": "[encoded data removed]",
      "text/plain": [
       "<Figure size 432x288 with 1 Axes>"
      ]
     },
     "metadata": {
      "needs_background": "light"
     },
     "output_type": "display_data"
    }
   ],
   "source": [
    "plt.scatter(x[:,0], x[:,1], c = y)\n",
    "plt.plot(np.array([min_,max_]),boundary)\n",
    "plt.show()"
   ]
  },
  {
   "cell_type": "code",
   "execution_count": 22,
   "id": "9c27082c-2ff9-4e94-b43e-193b287dd3a4",
   "metadata": {},
   "outputs": [
    {
     "data": {
      "text/plain": [
       "array([0, 1, 0, 1, 0, 0, 1, 0, 1, 1, 1, 0, 0, 0, 0, 1, 0, 1, 0, 0, 0, 0,\n",
       "       1, 0, 0])"
      ]
     },
     "execution_count": 22,
     "metadata": {},
     "output_type": "execute_result"
    }
   ],
   "source": [
    "preds"
   ]
  },
  {
   "cell_type": "code",
   "execution_count": null,
   "id": "c4ed9bb8-e30d-439b-aaf1-7fe8e97387d0",
   "metadata": {},
   "outputs": [],
   "source": []
  },
  {
   "cell_type": "code",
   "execution_count": 23,
   "id": "d525d977-e489-4376-b35c-32cd6ead904b",
   "metadata": {},
   "outputs": [],
   "source": [
    "from sklearn.linear_model import LogisticRegression"
   ]
  },
  {
   "cell_type": "code",
   "execution_count": 24,
   "id": "ba4790c8-2064-4172-bbdb-81e637605611",
   "metadata": {},
   "outputs": [],
   "source": [
    "log_reg = LogisticRegression()"
   ]
  },
  {
   "cell_type": "code",
   "execution_count": 25,
   "id": "2aa0c18e-d69a-49ad-b385-e242c8ca0790",
   "metadata": {},
   "outputs": [
    {
     "data": {
      "text/plain": [
       "LogisticRegression()"
      ]
     },
     "execution_count": 25,
     "metadata": {},
     "output_type": "execute_result"
    }
   ],
   "source": [
    "log_reg.fit(x_train,y_train)"
   ]
  },
  {
   "cell_type": "code",
   "execution_count": 26,
   "id": "2eec1b2c-2553-4f6a-8337-2c3045f2ff65",
   "metadata": {},
   "outputs": [],
   "source": [
    "pred_s = log_reg.predict(x_test)"
   ]
  },
  {
   "cell_type": "code",
   "execution_count": 27,
   "id": "203a22b8-2bb1-4e5e-a5a1-3e3c1f24a378",
   "metadata": {},
   "outputs": [
    {
     "data": {
      "text/plain": [
       "array([0, 1, 0, 1, 0, 0, 1, 0, 1, 1, 1, 0, 0, 1, 0, 1, 0, 1, 0, 0, 0, 0,\n",
       "       1, 0, 0])"
      ]
     },
     "execution_count": 27,
     "metadata": {},
     "output_type": "execute_result"
    }
   ],
   "source": [
    "pred_s"
   ]
  },
  {
   "cell_type": "code",
   "execution_count": 28,
   "id": "a25d255f-730d-49e5-8723-28fcb9510e0c",
   "metadata": {},
   "outputs": [],
   "source": [
    "from sklearn.metrics import accuracy_score"
   ]
  },
  {
   "cell_type": "code",
   "execution_count": 29,
   "id": "159f013b-b254-4b43-9c13-de9e3070315d",
   "metadata": {},
   "outputs": [
    {
     "data": {
      "text/plain": [
       "0.92"
      ]
     },
     "execution_count": 29,
     "metadata": {},
     "output_type": "execute_result"
    }
   ],
   "source": [
    "accuracy_score(y_test,pred_s)"
   ]
  },
  {
   "cell_type": "code",
   "execution_count": 30,
   "id": "4e2c5df6-6056-4a95-af7b-46d36b1de6ab",
   "metadata": {},
   "outputs": [
    {
     "data": {
      "text/plain": [
       "0.88"
      ]
     },
     "execution_count": 30,
     "metadata": {},
     "output_type": "execute_result"
    }
   ],
   "source": [
    "accuracy_score(y_test,preds)"
   ]
  },
  {
   "cell_type": "code",
   "execution_count": null,
   "id": "c63124aa-bc6f-47c5-bd48-5f5cb71444ac",
   "metadata": {},
   "outputs": [],
   "source": []
  },
  {
   "cell_type": "code",
   "execution_count": null,
   "id": "182db286-22f9-4498-9fa4-0c06aa5bfd05",
   "metadata": {},
   "outputs": [],
   "source": []
  },
  {
   "cell_type": "code",
   "execution_count": null,
   "id": "99c519b2-b808-4f11-bdeb-a254ed106dab",
   "metadata": {},
   "outputs": [],
   "source": []
  },
  {
   "cell_type": "code",
   "execution_count": null,
   "id": "01509196-95b8-47fd-bc19-2f3cbc3a0504",
   "metadata": {},
   "outputs": [],
   "source": []
  },
  {
   "cell_type": "code",
   "execution_count": null,
   "id": "58d4a34e-60b5-4c06-a0f8-6a38cbfe6f71",
   "metadata": {},
   "outputs": [],
   "source": []
  },
  {
   "cell_type": "code",
   "execution_count": null,
   "id": "aa554bd5-482f-4dd8-9ade-85ec5432a744",
   "metadata": {},
   "outputs": [],
   "source": []
  },
  {
   "cell_type": "code",
   "execution_count": null,
   "id": "dd6e3ab1-35cb-4ced-8470-7e3743bb54c9",
   "metadata": {},
   "outputs": [],
   "source": []
  },
  {
   "cell_type": "code",
   "execution_count": null,
   "id": "fc6f4b0a-8927-436e-95f8-9fce648527eb",
   "metadata": {},
   "outputs": [],
   "source": []
  },
  {
   "cell_type": "code",
   "execution_count": null,
   "id": "d086d11b-7408-4fd2-beaa-349e687acf11",
   "metadata": {},
   "outputs": [],
   "source": []
  },
  {
   "cell_type": "code",
   "execution_count": null,
   "id": "64af5839-890d-4424-854a-f53de98d4389",
   "metadata": {},
   "outputs": [],
   "source": []
  },
  {
   "cell_type": "code",
   "execution_count": null,
   "id": "4faaa3b9-cdb0-4cda-9859-aaace9261643",
   "metadata": {},
   "outputs": [],
   "source": []
  },
  {
   "cell_type": "code",
   "execution_count": null,
   "id": "fc48ad28-0825-4092-ac25-ad2524d95957",
   "metadata": {},
   "outputs": [],
   "source": []
  }
 ],
 "metadata": {
  "kernelspec": {
   "display_name": "Python 3 (ipykernel)",
   "language": "python",
   "name": "python3"
  },
  "language_info": {
   "codemirror_mode": {
    "name": "ipython",
    "version": 3
   },
   "file_extension": ".py",
   "mimetype": "text/x-python",
   "name": "python",
   "nbconvert_exporter": "python",
   "pygments_lexer": "ipython3",
   "version": "3.8.10"
  }
 },
 "nbformat": 4,
 "nbformat_minor": 5
}
