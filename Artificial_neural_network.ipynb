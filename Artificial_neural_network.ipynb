{
 "cells": [
  {
   "cell_type": "markdown",
   "id": "e83c236e-9694-4e03-9db8-61e684525e42",
   "metadata": {},
   "source": [
    "# Artificial Neural Network\n",
    "\n",
    "Our third model is an ANN. We will do multiclass classification with softmax and cross-entropy loss"
   ]
  },
  {
   "cell_type": "code",
   "execution_count": 1,
   "id": "4d5e0f2c-844b-4e46-bb9e-1dcdb9f482ac",
   "metadata": {},
   "outputs": [],
   "source": [
    "import numpy as np\n",
    "import random\n",
    "import matplotlib as plt\n",
    "import pandas as pd"
   ]
  },
  {
   "cell_type": "code",
   "execution_count": null,
   "id": "668865e6-a754-4a3b-8688-39f6eddb8121",
   "metadata": {},
   "outputs": [],
   "source": []
  }
 ],
 "metadata": {
  "kernelspec": {
   "display_name": "Python 3",
   "language": "python",
   "name": "python3"
  },
  "language_info": {
   "codemirror_mode": {
    "name": "ipython",
    "version": 3
   },
   "file_extension": ".py",
   "mimetype": "text/x-python",
   "name": "python",
   "nbconvert_exporter": "python",
   "pygments_lexer": "ipython3",
   "version": "3.8.5"
  }
 },
 "nbformat": 4,
 "nbformat_minor": 5
}
