{
 "cells": [
  {
   "cell_type": "markdown",
   "id": "5140b903-0d84-4933-9887-593f9477e3ea",
   "metadata": {},
   "source": [
    "# Logistic Regression from scratch\n",
    "\n",
    "Our second model is logistic regression and will be doing a binary classification"
   ]
  },
  {
   "cell_type": "code",
   "execution_count": 1,
   "id": "33082c4d-7479-4e43-93ba-fe2294b05eee",
   "metadata": {},
   "outputs": [],
   "source": [
    "import numpy as np\n",
    "import random\n",
    "import matplotlib.pyplot as plt\n",
    "from sklearn import datasets \n",
    "import matplotlib.pyplot as plt\n",
    "import pandas as pd"
   ]
  },
  {
   "cell_type": "code",
   "execution_count": null,
   "id": "97011d02-641c-4021-9059-687530ebf2a3",
   "metadata": {},
   "outputs": [],
   "source": []
  }
 ],
 "metadata": {
  "kernelspec": {
   "display_name": "Python 3",
   "language": "python",
   "name": "python3"
  },
  "language_info": {
   "codemirror_mode": {
    "name": "ipython",
    "version": 3
   },
   "file_extension": ".py",
   "mimetype": "text/x-python",
   "name": "python",
   "nbconvert_exporter": "python",
   "pygments_lexer": "ipython3",
   "version": "3.8.5"
  }
 },
 "nbformat": 4,
 "nbformat_minor": 5
}
