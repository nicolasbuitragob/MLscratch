{
 "cells": [
  {
   "cell_type": "markdown",
   "id": "5140b903-0d84-4933-9887-593f9477e3ea",
   "metadata": {},
   "source": [
    "# Logistic Regression from scratch\n",
    "\n",
    "Our second model is logistic regression and will be doing a binary classification"
   ]
  },
  {
   "cell_type": "code",
   "execution_count": 1,
   "id": "33082c4d-7479-4e43-93ba-fe2294b05eee",
   "metadata": {},
   "outputs": [],
   "source": [
    "import numpy as np\n",
    "import random\n",
    "import matplotlib.pyplot as plt\n",
    "from sklearn import datasets \n",
    "import matplotlib.pyplot as plt\n",
    "import pandas as pd"
   ]
  },
  {
   "cell_type": "code",
   "execution_count": 2,
   "id": "97011d02-641c-4021-9059-687530ebf2a3",
   "metadata": {},
   "outputs": [],
   "source": [
    "#Load data\n",
    "data = datasets.load_breast_cancer()\n",
    "X = data['data']\n",
    "y = data['target']"
   ]
  },
  {
   "cell_type": "code",
   "execution_count": null,
   "id": "cc53d28e-5295-422d-90d1-8c65de77ca2e",
   "metadata": {},
   "outputs": [],
   "source": [
    "#np.random.seed(0)\n",
    "m,n = X.shape\n",
    "theta = np.random.randn(n) # initialization of theta\n",
    "\n",
    "#add bias terms to X and theta\n",
    "X_with_bias = np.c_[np.ones(m),X] \n",
    "theta_with_bias = np.insert(theta,0,0)"
   ]
  },
  {
   "cell_type": "code",
   "execution_count": null,
   "id": "23ebcf30-fca5-452b-989a-e93172f96109",
   "metadata": {},
   "outputs": [],
   "source": [
    "#Split Data\n",
    "from sklearn.model_selection import train_test_split\n",
    "X_train,X_test,y_train,y_test = train_test_split(X_with_bias,y,test_size = 0.25)"
   ]
  },
  {
   "cell_type": "code",
   "execution_count": null,
   "id": "2a9c6d86-8431-4a21-8fad-6d7dc8d1a776",
   "metadata": {},
   "outputs": [],
   "source": [
    "#Scaling X\n",
    "\n",
    "from sklearn.preprocessing import StandardScaler\n",
    "scaler = StandardScaler()\n",
    "X_train_scaled = scaler.fit_transform(X_train)\n",
    "X_test_scaled = scaler.transform(X_test)\n"
   ]
  },
  {
   "cell_type": "code",
   "execution_count": null,
   "id": "a6277898-e8a6-44c2-b46b-54131ac78edc",
   "metadata": {},
   "outputs": [],
   "source": [
    "#Define Sigmoid function\n",
    "def sigmoid(x):\n",
    "    z = 1/(1 + np.exp(-x)) \n",
    "    return z\n"
   ]
  },
  {
   "cell_type": "code",
   "execution_count": null,
   "id": "f4668714-5800-484a-9974-fc7e9f21811a",
   "metadata": {},
   "outputs": [],
   "source": [
    "##Function for training data\n",
    "def log_reg(theta,X,y,alpha):\n",
    "    cost = []\n",
    "    for i in range(2000):\n",
    "        h = np.dot(X,theta)\n",
    "        z = sigmoid(h)    \n",
    "        J = (-1/m)*np.sum(y*np.log(z)+(1-z)*np.log(1-z))\n",
    "        cost.append(J)\n",
    "        error = z - y\n",
    "        grad = (1/m)*np.sum(error*X.T)\n",
    "        theta =  theta - grad*alpha\n",
    "        if i % 500 == 0:\n",
    "            print(i, J)\n",
    "    pred = (z>=0.5).astype(int)\n",
    "    return pred,theta,cost"
   ]
  },
  {
   "cell_type": "code",
   "execution_count": null,
   "id": "dd06779d-86b2-406b-b6e3-cba96c2057c8",
   "metadata": {},
   "outputs": [],
   "source": [
    "#Training the data\n",
    "pred_train, theta,cost = log_reg(theta_with_bias,X_train_scaled,y_train,0.001)"
   ]
  },
  {
   "cell_type": "code",
   "execution_count": null,
   "id": "dd8db1d2-06c6-4e98-8e3d-5fb685132645",
   "metadata": {},
   "outputs": [],
   "source": [
    "#Plotting Cost FUnction to see if it is working properly\n",
    "plt.plot(cost)\n",
    "plt.show()"
   ]
  },
  {
   "cell_type": "code",
   "execution_count": null,
   "id": "80d6e944-e2d3-4759-b15e-40ea63e039ad",
   "metadata": {},
   "outputs": [],
   "source": [
    "from sklearn.metrics import accuracy_score"
   ]
  },
  {
   "cell_type": "code",
   "execution_count": null,
   "id": "2c194a74-a1e1-4b66-89b9-9c199d9ed7ac",
   "metadata": {},
   "outputs": [],
   "source": [
    "test_pred = sigmoid(np.dot(theta,X_test_scaled.T))\n",
    "test_pred = (test_pred>=0.5).astype(int)"
   ]
  },
  {
   "cell_type": "code",
   "execution_count": null,
   "id": "6fcadb04-2974-48f5-8936-49a84171bebc",
   "metadata": {},
   "outputs": [],
   "source": [
    "acc_train = accuracy_score(y_train,pred_train)\n",
    "acc_train"
   ]
  },
  {
   "cell_type": "code",
   "execution_count": null,
   "id": "382ce21c-0ca9-47d7-9739-657f20782dbd",
   "metadata": {},
   "outputs": [],
   "source": [
    "acc_test = accuracy_score(y_test,test_pred)\n",
    "acc_test"
   ]
  },
  {
   "cell_type": "code",
   "execution_count": null,
   "id": "398170b3-8c30-4d82-9efd-60f46a4980da",
   "metadata": {},
   "outputs": [],
   "source": []
  },
  {
   "cell_type": "code",
   "execution_count": null,
   "id": "7c71619a-91d5-4ffd-9eee-a21c33e4da3d",
   "metadata": {},
   "outputs": [],
   "source": []
  },
  {
   "cell_type": "code",
   "execution_count": null,
   "id": "47d0d8ce-2f5e-4d0f-8fc8-5a11d7198fb3",
   "metadata": {},
   "outputs": [],
   "source": []
  },
  {
   "cell_type": "code",
   "execution_count": null,
   "id": "5fd5cce5-1fc0-4c94-bfdf-e6793872cfcb",
   "metadata": {},
   "outputs": [],
   "source": []
  }
 ],
 "metadata": {
  "kernelspec": {
   "display_name": "Python 3",
   "language": "python",
   "name": "python3"
  },
  "language_info": {
   "codemirror_mode": {
    "name": "ipython",
    "version": 3
   },
   "file_extension": ".py",
   "mimetype": "text/x-python",
   "name": "python",
   "nbconvert_exporter": "python",
   "pygments_lexer": "ipython3",
   "version": "3.8.5"
  }
 },
 "nbformat": 4,
 "nbformat_minor": 5
}
